{
 "cells": [
  {
   "cell_type": "markdown",
   "id": "6812580e-1041-40e7-bdaa-a9bc454ee82d",
   "metadata": {},
   "source": [
    "## **Reconstructed mesh visualization**"
   ]
  },
  {
   "cell_type": "code",
   "execution_count": 1,
   "id": "e75fa6e3-e136-449b-90ba-7e58c7c61135",
   "metadata": {},
   "outputs": [],
   "source": [
    "import trimesh\n"
   ]
  },
  {
   "cell_type": "code",
   "execution_count": 2,
   "id": "22108b02-166a-48d3-9102-d9ca21ad08ea",
   "metadata": {},
   "outputs": [],
   "source": [
    "%run '../toothForge/src/Graph.py'\n",
    "%run '../toothForge/src/SpectralMesh.py'"
   ]
  },
  {
   "cell_type": "code",
   "execution_count": 3,
   "id": "b2724f12-35f2-45dc-bc17-a36994b09f36",
   "metadata": {},
   "outputs": [
    {
     "data": {
      "application/vnd.jupyter.widget-view+json": {
       "model_id": "1abd12bd9eee4934a66f072e921ace9a",
       "version_major": 2,
       "version_minor": 0
      },
      "text/plain": [
       "Widget(value='<iframe src=\"http://localhost:41203/index.html?ui=P_0x717a1278e0e0_0&reconnect=auto\" class=\"pyvi…"
      ]
     },
     "metadata": {},
     "output_type": "display_data"
    }
   ],
   "source": [
    "pl = pv.Plotter(shape=(1, 2))\n",
    "\n",
    "m2 = pv.read('../toothForge/data/generated/sub-002_species-Chlorocebus+sabaeus_hemi-L/mesh.stl')\n",
    "m3 = pv.read('../toothForge/data/generated/sub-002_species-Chlorocebus+sabaeus_hemi-L/reconstructed_aligned.stl')\n",
    "\n",
    "\n",
    "pl.subplot(0,0)\n",
    "pl.add_text(\"original mesh\", font_size=15)\n",
    "pl.add_mesh(m2, color=\"green\")\n",
    "pl.view_xy()\n",
    "\n",
    "pl.subplot(0, 1)\n",
    "pl.add_text(\"reconstructed aligned\", font_size=15)\n",
    "pl.add_mesh(m3, color=\"yellow\")\n",
    "pl.view_xy()\n",
    "\n",
    "pl.link_views()\n",
    "pl.show()"
   ]
  },
  {
   "cell_type": "code",
   "execution_count": 4,
   "id": "5ecaa84c-0951-4c61-9f11-b3dfbf75ce78",
   "metadata": {},
   "outputs": [
    {
     "data": {
      "application/vnd.jupyter.widget-view+json": {
       "model_id": "285537920a894acea1061a39db3886e5",
       "version_major": 2,
       "version_minor": 0
      },
      "text/plain": [
       "Widget(value='<iframe src=\"http://localhost:40431/index.html?ui=P_0x7f2ebd14c8e0_1&reconnect=auto\" class=\"pyvi…"
      ]
     },
     "metadata": {},
     "output_type": "display_data"
    }
   ],
   "source": [
    "pl = pv.Plotter(shape=(1, 2))\n",
    "\n",
    "m2 = pv.read('../toothForge/data/generated/sub-031_species-Semnopithecus+entellus_hemi-L/mesh.stl')\n",
    "m3 = pv.read('../toothForge/data/generated/sub-031_species-Semnopithecus+entellus_hemi-L/reconstructed_aligned.stl')\n",
    "\n",
    "\n",
    "pl.subplot(0,0)\n",
    "pl.add_text(\"original mesh\", font_size=15)\n",
    "pl.add_mesh(m2, color=\"green\")\n",
    "pl.view_xy()\n",
    "\n",
    "pl.subplot(0, 1)\n",
    "pl.add_text(\"reconstructed aligned\", font_size=15)\n",
    "pl.add_mesh(m3, color=\"yellow\")\n",
    "pl.view_xy()\n",
    "\n",
    "pl.link_views()\n",
    "pl.show()"
   ]
  },
  {
   "cell_type": "code",
   "execution_count": 5,
   "id": "dd97930d-7986-4023-8f61-95bd6c5ec4a3",
   "metadata": {},
   "outputs": [
    {
     "data": {
      "application/vnd.jupyter.widget-view+json": {
       "model_id": "d2035fd290a146568fabc3e799171427",
       "version_major": 2,
       "version_minor": 0
      },
      "text/plain": [
       "Widget(value='<iframe src=\"http://localhost:40431/index.html?ui=P_0x7f2ebd14c820_2&reconnect=auto\" class=\"pyvi…"
      ]
     },
     "metadata": {},
     "output_type": "display_data"
    }
   ],
   "source": [
    "pl = pv.Plotter(shape=(1, 2))\n",
    "\n",
    "m2 = pv.read('../toothForge/data/generated/sub-061_species-Tamiasciurus+hudsonicus_hemi-L/mesh.stl')\n",
    "m3 = pv.read('../toothForge/data/generated/sub-061_species-Tamiasciurus+hudsonicus_hemi-L/reconstructed_aligned.stl')\n",
    "\n",
    "\n",
    "pl.subplot(0,0)\n",
    "pl.add_text(\"original mesh\", font_size=15)\n",
    "pl.add_mesh(m2, color=\"green\")\n",
    "pl.view_xy()\n",
    "\n",
    "pl.subplot(0, 1)\n",
    "pl.add_text(\"reconstructed aligned\", font_size=15)\n",
    "pl.add_mesh(m3, color=\"yellow\")\n",
    "pl.view_xy()\n",
    "\n",
    "pl.link_views()\n",
    "pl.show()"
   ]
  },
  {
   "cell_type": "code",
   "execution_count": 4,
   "id": "52b0fc77-f6ff-4c92-9f34-ccafc80f3a3c",
   "metadata": {},
   "outputs": [
    {
     "data": {
      "application/vnd.jupyter.widget-view+json": {
       "model_id": "cbce450c3513414d9a54d4d5047edb08",
       "version_major": 2,
       "version_minor": 0
      },
      "text/plain": [
       "Widget(value='<iframe src=\"http://localhost:38033/index.html?ui=P_0x7fcc08d66c40_1&reconnect=auto\" class=\"pyvi…"
      ]
     },
     "metadata": {},
     "output_type": "display_data"
    }
   ],
   "source": [
    "import pyvista as pv\n",
    "pl = pv.Plotter(shape=(1, 2))\n",
    "\n",
    "m2 = pv.read('../toothForge/data/generated_k100/sub-090_species-Tamias+striatus_hemi-L/mesh.stl')\n",
    "m3 = pv.read('../toothForge/data/generated_k100/sub-090_species-Tamias+striatus_hemi-L/reconstructed_aligned.stl')\n",
    "\n",
    "\n",
    "pl.subplot(0,0)\n",
    "pl.add_text(\"original mesh\", font_size=15)\n",
    "pl.add_mesh(m2, color=\"green\")\n",
    "pl.view_xy()\n",
    "\n",
    "pl.subplot(0, 1)\n",
    "pl.add_text(\"reconstructed aligned\", font_size=15)\n",
    "pl.add_mesh(m3, color=\"yellow\")\n",
    "pl.view_xy()\n",
    "\n",
    "pl.link_views()\n",
    "pl.show()"
   ]
  },
  {
   "cell_type": "markdown",
   "id": "094ea921-bf20-404d-9c23-b5a7d921abcf",
   "metadata": {},
   "source": [
    "## Reconstructed aligned to template"
   ]
  },
  {
   "cell_type": "code",
   "execution_count": 9,
   "id": "be782acf-b130-4c8c-be8a-3aaaf2f9a31f",
   "metadata": {},
   "outputs": [
    {
     "data": {
      "application/vnd.jupyter.widget-view+json": {
       "model_id": "31683d1d35b4466faaafca844a28a3f9",
       "version_major": 2,
       "version_minor": 0
      },
      "text/plain": [
       "Widget(value='<iframe src=\"http://localhost:40431/index.html?ui=P_0x7f2eb6bd4c10_6&reconnect=auto\" class=\"pyvi…"
      ]
     },
     "metadata": {},
     "output_type": "display_data"
    }
   ],
   "source": [
    "import os\n",
    "\n",
    "data_path = '../toothForge/data/generated'\n",
    "\n",
    "aligned_plotter = pv.Plotter()\n",
    "\n",
    "for root, dirs, files in os.walk(data_path):\n",
    "    for folder in dirs:\n",
    "        if folder == 'template-sub-001_species-Cercopithecus+cephus_hemi-L':\n",
    "            mesh = pv.read(os.path.join(root, folder, 'mesh.stl'))\n",
    "            aligned_plotter.add_mesh(mesh, opacity=0.8, color='red')\n",
    "        else:\n",
    "            mesh = pv.read(os.path.join(root, folder, 'reconstructed_aligned.stl'))\n",
    "            aligned_plotter.add_mesh(mesh, opacity=0.4)\n",
    "        \n",
    "\n",
    "aligned_plotter.show()"
   ]
  },
  {
   "cell_type": "markdown",
   "id": "f32bbd39-16c4-4641-8bc8-e800ebfdd79a",
   "metadata": {},
   "source": [
    "## Reconstructed unaligned"
   ]
  },
  {
   "cell_type": "code",
   "execution_count": 10,
   "id": "303b4a3e-000c-47d6-9292-0c0ae27dceb7",
   "metadata": {},
   "outputs": [
    {
     "data": {
      "application/vnd.jupyter.widget-view+json": {
       "model_id": "7bdaea0aca784302830d4b03db74e95c",
       "version_major": 2,
       "version_minor": 0
      },
      "text/plain": [
       "Widget(value='<iframe src=\"http://localhost:40431/index.html?ui=P_0x7f2ebfa26640_7&reconnect=auto\" class=\"pyvi…"
      ]
     },
     "metadata": {},
     "output_type": "display_data"
    }
   ],
   "source": [
    "import os\n",
    "\n",
    "data_path = '../toothForge/data/generated'\n",
    "\n",
    "unaligned_plotter = pv.Plotter()\n",
    "\n",
    "for root, dirs, files in os.walk(data_path):\n",
    "    for folder in dirs:\n",
    "        \n",
    "        if folder == 'template-sub-001_species-Cercopithecus+cephus_hemi-L':\n",
    "            mesh = pv.read(os.path.join(root, folder, 'mesh.stl'))\n",
    "            unaligned_plotter.add_mesh(mesh, opacity=.95, color='red')\n",
    "        else:\n",
    "            mesh = pv.read(os.path.join(root, folder, 'reconstructed_unaligned.stl'))\n",
    "            unaligned_plotter.add_mesh(mesh, opacity=0.4)\n",
    "\n",
    "unaligned_plotter.show()"
   ]
  },
  {
   "cell_type": "markdown",
   "id": "c8e0db7a-ea1e-4aa5-adce-761c853f2356",
   "metadata": {},
   "source": [
    "## Reconstructed interpolated to template"
   ]
  },
  {
   "cell_type": "code",
   "execution_count": 11,
   "id": "341ec030-ede0-4c32-aec5-7c1dd15c52bd",
   "metadata": {},
   "outputs": [
    {
     "data": {
      "application/vnd.jupyter.widget-view+json": {
       "model_id": "015c7002072f49bbbef524f184f3a7e5",
       "version_major": 2,
       "version_minor": 0
      },
      "text/plain": [
       "Widget(value='<iframe src=\"http://localhost:40431/index.html?ui=P_0x7f2ebd160850_8&reconnect=auto\" class=\"pyvi…"
      ]
     },
     "metadata": {},
     "output_type": "display_data"
    }
   ],
   "source": [
    "import os\n",
    "\n",
    "data_path = '../toothForge/data/generated'\n",
    "\n",
    "intp_plotter = pv.Plotter()\n",
    "\n",
    "for root, dirs, files in os.walk(data_path):\n",
    "    for folder in dirs:\n",
    "        if folder == 'template-sub-001_species-Cercopithecus+cephus_hemi-L':\n",
    "            mesh = pv.read(os.path.join(root, folder, 'mesh.stl'))\n",
    "            intp_plotter.add_mesh(mesh, opacity=0.3, color='red')\n",
    "        else:\n",
    "            mesh = pv.read(os.path.join(root, folder, 'reconstructed_interp.stl'))\n",
    "            intp_plotter.add_mesh(mesh, opacity=0.2)\n",
    "\n",
    "intp_plotter.show()"
   ]
  },
  {
   "cell_type": "markdown",
   "id": "1060123f-7292-48f0-8204-c0feb02c1edb",
   "metadata": {},
   "source": [
    "**Before pre-alignment**"
   ]
  },
  {
   "cell_type": "code",
   "execution_count": 5,
   "id": "6039cdbc-028b-4e6b-94fe-91e1c2f8e7b8",
   "metadata": {},
   "outputs": [
    {
     "data": {
      "application/vnd.jupyter.widget-view+json": {
       "model_id": "bfa7a999422548cd88ce46eda06f3ad5",
       "version_major": 2,
       "version_minor": 0
      },
      "text/plain": [
       "Widget(value='<iframe src=\"http://localhost:38033/index.html?ui=P_0x7fcc14688130_2&reconnect=auto\" class=\"pyvi…"
      ]
     },
     "metadata": {},
     "output_type": "display_data"
    }
   ],
   "source": [
    "pl = pv.Plotter(shape=(1, 3))\n",
    "\n",
    "m1 = pv.read('../toothForge/data/generated_before/template-sub-001_species-Cercopithecus+cephus_hemi-L/mesh.stl')\n",
    "m2 = pv.read('../toothForge/data/generated_before/sub-071_species-Cebuella+pygmaea_hemi-L/reconstructed_interp.stl')\n",
    "m3 = pv.read('../toothForge/data/generated_before/sub-071_species-Cebuella+pygmaea_hemi-L/mesh.stl')\n",
    "\n",
    "pl.subplot(0, 0)\n",
    "pl.add_text(\"brain 1 (template)\", font_size=15)\n",
    "pl.add_mesh(m1, color=\"red\")\n",
    "pl.view_xy()\n",
    "\n",
    "pl.subplot(0, 1)\n",
    "pl.add_text(\"interpolated brain\", font_size=15)\n",
    "pl.add_mesh(m2, color=\"purple\")\n",
    "pl.view_xy()\n",
    "\n",
    "pl.subplot(0, 2)\n",
    "pl.add_text(\"brain 2\", font_size=15)\n",
    "pl.add_mesh(m3, color=\"blue\")\n",
    "pl.view_xy()\n",
    "\n",
    "pl.link_views()\n",
    "pl.show()"
   ]
  },
  {
   "cell_type": "code",
   "execution_count": 6,
   "id": "cd90b6f1-4549-4b98-86b6-e8e2f7cc095a",
   "metadata": {},
   "outputs": [
    {
     "data": {
      "application/vnd.jupyter.widget-view+json": {
       "model_id": "1521dbb536f645a39a25cf64bd638fd1",
       "version_major": 2,
       "version_minor": 0
      },
      "text/plain": [
       "Widget(value='<iframe src=\"http://localhost:38033/index.html?ui=P_0x7fcc091cd640_3&reconnect=auto\" class=\"pyvi…"
      ]
     },
     "metadata": {},
     "output_type": "display_data"
    }
   ],
   "source": [
    "pl = pv.Plotter(shape=(1, 3))\n",
    "\n",
    "m1 = pv.read('../toothForge/data/generated_before/template-sub-001_species-Cercopithecus+cephus_hemi-L/mesh.stl')\n",
    "m2 = pv.read('../toothForge/data/generated_before/sub-003_species-Daubentonia+madagascariensis_hemi-L/reconstructed_interp.stl')\n",
    "m3 = pv.read('../toothForge/data/generated_before/sub-003_species-Daubentonia+madagascariensis_hemi-L/mesh.stl')\n",
    "\n",
    "pl.subplot(0, 0)\n",
    "pl.add_text(\"brain 1 (template)\", font_size=15)\n",
    "pl.add_mesh(m1, color=\"red\")\n",
    "pl.view_xy()\n",
    "\n",
    "pl.subplot(0, 1)\n",
    "pl.add_text(\"interpolated brain\", font_size=15)\n",
    "pl.add_mesh(m2, color=\"purple\")\n",
    "pl.view_xy()\n",
    "\n",
    "pl.subplot(0, 2)\n",
    "pl.add_text(\"brain 2\", font_size=15)\n",
    "pl.add_mesh(m3, color=\"blue\")\n",
    "pl.view_xy()\n",
    "\n",
    "pl.link_views()\n",
    "pl.show()"
   ]
  },
  {
   "cell_type": "code",
   "execution_count": 7,
   "id": "2eb02f42-2cb3-4e34-9ce8-019aeb65dc8f",
   "metadata": {},
   "outputs": [
    {
     "data": {
      "application/vnd.jupyter.widget-view+json": {
       "model_id": "b06040dea8dc483d882fda211c8aac57",
       "version_major": 2,
       "version_minor": 0
      },
      "text/plain": [
       "Widget(value='<iframe src=\"http://localhost:38033/index.html?ui=P_0x7fcc0889a6d0_4&reconnect=auto\" class=\"pyvi…"
      ]
     },
     "metadata": {},
     "output_type": "display_data"
    }
   ],
   "source": [
    "pl = pv.Plotter(shape=(1, 3))\n",
    "\n",
    "m1 = pv.read('../toothForge/data/generated_before/template-sub-001_species-Cercopithecus+cephus_hemi-L/mesh.stl')\n",
    "m2 = pv.read('../toothForge/data/generated_before/sub-047_species-Sciurus+vulgaris_hemi-L/reconstructed_interp.stl')\n",
    "m3 = pv.read('../toothForge/data/generated_before/sub-047_species-Sciurus+vulgaris_hemi-L/mesh.stl')\n",
    "\n",
    "pl.subplot(0, 0)\n",
    "pl.add_text(\"brain 1 (template)\", font_size=15)\n",
    "pl.add_mesh(m1, color=\"red\")\n",
    "pl.view_xy()\n",
    "\n",
    "pl.subplot(0, 1)\n",
    "pl.add_text(\"interpolated brain\", font_size=15)\n",
    "pl.add_mesh(m2, color=\"purple\")\n",
    "pl.view_xy()\n",
    "\n",
    "pl.subplot(0, 2)\n",
    "pl.add_text(\"brain 2\", font_size=15)\n",
    "pl.add_mesh(m3, color=\"blue\")\n",
    "pl.view_xy()\n",
    "\n",
    "pl.link_views()\n",
    "pl.show()"
   ]
  },
  {
   "cell_type": "code",
   "execution_count": 8,
   "id": "6604388d-aa07-4de6-a3c5-ebb359fffd31",
   "metadata": {},
   "outputs": [
    {
     "data": {
      "application/vnd.jupyter.widget-view+json": {
       "model_id": "286aecbacb834fa382d9f42c30fe4ca5",
       "version_major": 2,
       "version_minor": 0
      },
      "text/plain": [
       "Widget(value='<iframe src=\"http://localhost:38033/index.html?ui=P_0x7fcbef5dadc0_5&reconnect=auto\" class=\"pyvi…"
      ]
     },
     "metadata": {},
     "output_type": "display_data"
    }
   ],
   "source": [
    "pl = pv.Plotter(shape=(1, 3))\n",
    "\n",
    "m1 = pv.read('../toothForge/data/generated_before/template-sub-001_species-Cercopithecus+cephus_hemi-L/mesh.stl')\n",
    "m2 = pv.read('../toothForge/data/generated_before/sub-002_species-Chlorocebus+sabaeus_hemi-L/reconstructed_interp.stl')\n",
    "m3 = pv.read('../toothForge/data/generated_before/sub-002_species-Chlorocebus+sabaeus_hemi-L/mesh.stl')\n",
    "\n",
    "pl.subplot(0, 0)\n",
    "pl.add_text(\"brain 1 (template)\", font_size=15)\n",
    "pl.add_mesh(m1, color=\"red\")\n",
    "pl.view_xy()\n",
    "\n",
    "pl.subplot(0, 1)\n",
    "pl.add_text(\"interpolated brain\", font_size=15)\n",
    "pl.add_mesh(m2, color=\"purple\")\n",
    "pl.view_xy()\n",
    "\n",
    "pl.subplot(0, 2)\n",
    "pl.add_text(\"brain 2\", font_size=15)\n",
    "pl.add_mesh(m3, color=\"blue\")\n",
    "pl.view_xy()\n",
    "\n",
    "pl.link_views()\n",
    "pl.show()"
   ]
  },
  {
   "cell_type": "markdown",
   "id": "f56af87c-01cb-4ada-a36a-5b3cc4348b45",
   "metadata": {},
   "source": [
    "**After pre-alignment**"
   ]
  },
  {
   "cell_type": "code",
   "execution_count": 16,
   "id": "d0eea912-c283-4994-8152-2e3865f22533",
   "metadata": {},
   "outputs": [
    {
     "data": {
      "application/vnd.jupyter.widget-view+json": {
       "model_id": "5ea3714c7cbd4330b0a9fa64a93b4be8",
       "version_major": 2,
       "version_minor": 0
      },
      "text/plain": [
       "Widget(value='<iframe src=\"http://localhost:40431/index.html?ui=P_0x7f2eb6f0b0a0_13&reconnect=auto\" class=\"pyv…"
      ]
     },
     "metadata": {},
     "output_type": "display_data"
    }
   ],
   "source": [
    "pl = pv.Plotter(shape=(1, 3))\n",
    "\n",
    "m1 = pv.read('../toothForge/data/generated_before/template-sub-001_species-Cercopithecus+cephus_hemi-L/mesh.stl')\n",
    "m2 = pv.read('../toothForge/data/generated_before/sub-071_species-Cebuella+pygmaea_hemi-L/reconstructed_interp.stl')\n",
    "m3 = pv.read('../toothForge/data/generated_before/sub-071_species-Cebuella+pygmaea_hemi-L/mesh.stl')\n",
    "\n",
    "pl.subplot(0, 0)\n",
    "pl.add_text(\"brain 1 (template)\", font_size=15)\n",
    "pl.add_mesh(m1, color=\"red\")\n",
    "pl.view_xy()\n",
    "\n",
    "pl.subplot(0, 1)\n",
    "pl.add_text(\"interpolated brain\", font_size=15)\n",
    "pl.add_mesh(m2, color=\"purple\")\n",
    "pl.view_xy()\n",
    "\n",
    "pl.subplot(0, 2)\n",
    "pl.add_text(\"brain 2\", font_size=15)\n",
    "pl.add_mesh(m3, color=\"blue\")\n",
    "pl.view_xy()\n",
    "\n",
    "pl.link_views()\n",
    "pl.show()"
   ]
  },
  {
   "cell_type": "code",
   "execution_count": 17,
   "id": "892400b3-5ee8-4335-beab-41c1622d6295",
   "metadata": {},
   "outputs": [
    {
     "data": {
      "application/vnd.jupyter.widget-view+json": {
       "model_id": "7af45f6db3df4c14bf625fe85e739439",
       "version_major": 2,
       "version_minor": 0
      },
      "text/plain": [
       "Widget(value='<iframe src=\"http://localhost:40431/index.html?ui=P_0x7f2eb70d76a0_14&reconnect=auto\" class=\"pyv…"
      ]
     },
     "metadata": {},
     "output_type": "display_data"
    }
   ],
   "source": [
    "pl = pv.Plotter(shape=(1, 3))\n",
    "\n",
    "m1 = pv.read('../toothForge/data/generated/template-sub-001_species-Cercopithecus+cephus_hemi-L/mesh.stl')\n",
    "m2 = pv.read('../toothForge/data/generated/sub-003_species-Daubentonia+madagascariensis_hemi-L/reconstructed_interp.stl')\n",
    "m3 = pv.read('../toothForge/data/generated/sub-003_species-Daubentonia+madagascariensis_hemi-L/mesh.stl')\n",
    "\n",
    "pl.subplot(0, 0)\n",
    "pl.add_text(\"brain 1 (template)\", font_size=15)\n",
    "pl.add_mesh(m1, color=\"red\")\n",
    "pl.view_xy()\n",
    "\n",
    "pl.subplot(0, 1)\n",
    "pl.add_text(\"interpolated brain\", font_size=15)\n",
    "pl.add_mesh(m2, color=\"purple\")\n",
    "pl.view_xy()\n",
    "\n",
    "pl.subplot(0, 2)\n",
    "pl.add_text(\"brain 2\", font_size=15)\n",
    "pl.add_mesh(m3, color=\"blue\")\n",
    "pl.view_xy()\n",
    "\n",
    "pl.link_views()\n",
    "pl.show()"
   ]
  },
  {
   "cell_type": "code",
   "execution_count": 18,
   "id": "c3f44a65-9505-4e0a-a031-13a1ea37f94c",
   "metadata": {},
   "outputs": [
    {
     "data": {
      "application/vnd.jupyter.widget-view+json": {
       "model_id": "cc9298ae9ac542cbb440017dbb57bfbc",
       "version_major": 2,
       "version_minor": 0
      },
      "text/plain": [
       "Widget(value='<iframe src=\"http://localhost:40431/index.html?ui=P_0x7f2eb70565b0_15&reconnect=auto\" class=\"pyv…"
      ]
     },
     "metadata": {},
     "output_type": "display_data"
    }
   ],
   "source": [
    "pl = pv.Plotter(shape=(1, 3))\n",
    "\n",
    "m1 = pv.read('../toothForge/data/generated/template-sub-001_species-Cercopithecus+cephus_hemi-L/mesh.stl')\n",
    "m2 = pv.read('../toothForge/data/generated/sub-047_species-Sciurus+vulgaris_hemi-L/reconstructed_interp.stl')\n",
    "m3 = pv.read('../toothForge/data/generated/sub-047_species-Sciurus+vulgaris_hemi-L/mesh.stl')\n",
    "\n",
    "pl.subplot(0, 0)\n",
    "pl.add_text(\"brain 1 (template)\", font_size=15)\n",
    "pl.add_mesh(m1, color=\"red\")\n",
    "pl.view_xy()\n",
    "\n",
    "pl.subplot(0, 1)\n",
    "pl.add_text(\"interpolated brain\", font_size=15)\n",
    "pl.add_mesh(m2, color=\"purple\")\n",
    "pl.view_xy()\n",
    "\n",
    "pl.subplot(0, 2)\n",
    "pl.add_text(\"brain 2\", font_size=15)\n",
    "pl.add_mesh(m3, color=\"blue\")\n",
    "pl.view_xy()\n",
    "\n",
    "pl.link_views()\n",
    "pl.show()"
   ]
  },
  {
   "cell_type": "code",
   "execution_count": 9,
   "id": "a03145e9-4bcc-43ed-9ecf-dfb77d6741b5",
   "metadata": {},
   "outputs": [
    {
     "data": {
      "application/vnd.jupyter.widget-view+json": {
       "model_id": "5a0a29d078f542748e6149958a9029ae",
       "version_major": 2,
       "version_minor": 0
      },
      "text/plain": [
       "Widget(value='<iframe src=\"http://localhost:38033/index.html?ui=P_0x7fcbef3110d0_6&reconnect=auto\" class=\"pyvi…"
      ]
     },
     "metadata": {},
     "output_type": "display_data"
    }
   ],
   "source": [
    "pl = pv.Plotter(shape=(1, 3))\n",
    "\n",
    "m1 = pv.read('../toothForge/data/generated/template-sub-001_species-Cercopithecus+cephus_hemi-L/mesh.stl')\n",
    "m2 = pv.read('../toothForge/data/generated/sub-002_species-Chlorocebus+sabaeus_hemi-L/reconstructed_interp.stl')\n",
    "m3 = pv.read('../toothForge/data/generated/sub-002_species-Chlorocebus+sabaeus_hemi-L/mesh.stl')\n",
    "\n",
    "pl.subplot(0, 0)\n",
    "pl.add_text(\"brain 1 (template)\", font_size=15)\n",
    "pl.add_mesh(m1, color=\"red\")\n",
    "pl.view_xy()\n",
    "\n",
    "pl.subplot(0, 1)\n",
    "pl.add_text(\"interpolated brain\", font_size=15)\n",
    "pl.add_mesh(m2, color=\"purple\")\n",
    "pl.view_xy()\n",
    "\n",
    "pl.subplot(0, 2)\n",
    "pl.add_text(\"brain 2\", font_size=15)\n",
    "pl.add_mesh(m3, color=\"blue\")\n",
    "pl.view_xy()\n",
    "\n",
    "pl.link_views()\n",
    "pl.show()"
   ]
  },
  {
   "cell_type": "code",
   "execution_count": 10,
   "id": "7c0c023e-b059-44c6-b2ba-5bbd3c77562c",
   "metadata": {},
   "outputs": [
    {
     "data": {
      "application/vnd.jupyter.widget-view+json": {
       "model_id": "6df814a036154bb891b2a7694be48a80",
       "version_major": 2,
       "version_minor": 0
      },
      "text/plain": [
       "Widget(value='<iframe src=\"http://localhost:38033/index.html?ui=P_0x7fcbeeeb97c0_7&reconnect=auto\" class=\"pyvi…"
      ]
     },
     "metadata": {},
     "output_type": "display_data"
    }
   ],
   "source": [
    "pl = pv.Plotter(shape=(1, 3))\n",
    "\n",
    "m1 = pv.read('../toothForge/data/generated/template-sub-001_species-Cercopithecus+cephus_hemi-L/mesh.stl')\n",
    "m2 = pv.read('../toothForge/data/generated/sub-085_species-Peromyscus+californicus_hemi-L/reconstructed_interp.stl')\n",
    "m3 = pv.read('../toothForge/data/generated/sub-085_species-Peromyscus+californicus_hemi-L/mesh.stl')\n",
    "\n",
    "pl.subplot(0, 0)\n",
    "pl.add_text(\"brain 1 (template)\", font_size=15)\n",
    "pl.add_mesh(m1, color=\"red\")\n",
    "pl.view_xy()\n",
    "\n",
    "pl.subplot(0, 1)\n",
    "pl.add_text(\"interpolated brain\", font_size=15)\n",
    "pl.add_mesh(m2, color=\"purple\")\n",
    "pl.view_xy()\n",
    "\n",
    "pl.subplot(0, 2)\n",
    "pl.add_text(\"brain 2\", font_size=15)\n",
    "pl.add_mesh(m3, color=\"blue\")\n",
    "pl.view_xy()\n",
    "\n",
    "pl.link_views()\n",
    "pl.show()"
   ]
  },
  {
   "cell_type": "code",
   "execution_count": 11,
   "id": "04749e0c-3cd5-4060-a0d3-889757e5a2e4",
   "metadata": {},
   "outputs": [
    {
     "data": {
      "application/vnd.jupyter.widget-view+json": {
       "model_id": "738098ccc4ee4303922ef1535821e5fd",
       "version_major": 2,
       "version_minor": 0
      },
      "text/plain": [
       "Widget(value='<iframe src=\"http://localhost:38033/index.html?ui=P_0x7fcbec9be0d0_8&reconnect=auto\" class=\"pyvi…"
      ]
     },
     "metadata": {},
     "output_type": "display_data"
    }
   ],
   "source": [
    "pl = pv.Plotter(shape=(1, 3))\n",
    "\n",
    "m1 = pv.read('../toothForge/data/generated/template-sub-001_species-Cercopithecus+cephus_hemi-L/mesh.stl')\n",
    "m2 = pv.read('../toothForge/data/generated/sub-090_species-Tamias+striatus_hemi-L/reconstructed_interp.stl')\n",
    "m3 = pv.read('../toothForge/data/generated/sub-090_species-Tamias+striatus_hemi-L/mesh.stl')\n",
    "\n",
    "pl.subplot(0, 0)\n",
    "pl.add_text(\"brain 1 (template)\", font_size=15)\n",
    "pl.add_mesh(m1, color=\"red\")\n",
    "pl.view_xy()\n",
    "\n",
    "pl.subplot(0, 1)\n",
    "pl.add_text(\"interpolated brain\", font_size=15)\n",
    "pl.add_mesh(m2, color=\"purple\")\n",
    "pl.view_xy()\n",
    "\n",
    "pl.subplot(0, 2)\n",
    "pl.add_text(\"brain 2\", font_size=15)\n",
    "pl.add_mesh(m3, color=\"blue\")\n",
    "pl.view_xy()\n",
    "\n",
    "pl.link_views()\n",
    "pl.show()"
   ]
  },
  {
   "cell_type": "code",
   "execution_count": 22,
   "id": "2d2c8274-dea2-4c03-86d2-2d01b58a8b90",
   "metadata": {},
   "outputs": [
    {
     "data": {
      "application/vnd.jupyter.widget-view+json": {
       "model_id": "a6c32be2f41a4df1b81d9c09877456e7",
       "version_major": 2,
       "version_minor": 0
      },
      "text/plain": [
       "Widget(value='<iframe src=\"http://localhost:40431/index.html?ui=P_0x7f2eb6e9da00_19&reconnect=auto\" class=\"pyv…"
      ]
     },
     "metadata": {},
     "output_type": "display_data"
    }
   ],
   "source": [
    "pl = pv.Plotter(shape=(1, 3))\n",
    "\n",
    "m1 = pv.read('../toothForge/data/generated/template-sub-001_species-Cercopithecus+cephus_hemi-L/mesh.stl')\n",
    "m2 = pv.read('../toothForge/data/generated/sub-080_species-Macaca+sylvanus_hemi-L/reconstructed_interp.stl')\n",
    "m3 = pv.read('../toothForge/data/generated/sub-080_species-Macaca+sylvanus_hemi-L/mesh.stl')\n",
    "\n",
    "pl.subplot(0, 0)\n",
    "pl.add_text(\"brain 1 (template)\", font_size=15)\n",
    "pl.add_mesh(m1, color=\"red\")\n",
    "pl.view_xy()\n",
    "\n",
    "pl.subplot(0, 1)\n",
    "pl.add_text(\"interpolated brain\", font_size=15)\n",
    "pl.add_mesh(m2, color=\"purple\")\n",
    "pl.view_xy()\n",
    "\n",
    "pl.subplot(0, 2)\n",
    "pl.add_text(\"brain 2\", font_size=15)\n",
    "pl.add_mesh(m3, color=\"blue\")\n",
    "pl.view_xy()\n",
    "\n",
    "pl.link_views()\n",
    "pl.show()"
   ]
  },
  {
   "cell_type": "markdown",
   "id": "c736e633-f9f4-4f83-9641-ba90bc991966",
   "metadata": {},
   "source": [
    "**k=100**"
   ]
  },
  {
   "cell_type": "code",
   "execution_count": 23,
   "id": "0bdf0e30-9b57-4b69-a6b4-9a21366b83a7",
   "metadata": {},
   "outputs": [
    {
     "data": {
      "application/vnd.jupyter.widget-view+json": {
       "model_id": "0b068e1d8b244681b8a367c64b555c7e",
       "version_major": 2,
       "version_minor": 0
      },
      "text/plain": [
       "Widget(value='<iframe src=\"http://localhost:40431/index.html?ui=P_0x7f2ebc04aaf0_20&reconnect=auto\" class=\"pyv…"
      ]
     },
     "metadata": {},
     "output_type": "display_data"
    }
   ],
   "source": [
    "pl = pv.Plotter(shape=(1, 3))\n",
    "\n",
    "m1 = pv.read('../toothForge/data/generated_k100/template-sub-001_species-Cercopithecus+cephus_hemi-L/mesh.stl')\n",
    "m2 = pv.read('../toothForge/data/generated_k100/sub-085_species-Peromyscus+californicus_hemi-L/reconstructed_interp.stl')\n",
    "m3 = pv.read('../toothForge/data/generated_k100/sub-085_species-Peromyscus+californicus_hemi-L/mesh.stl')\n",
    "\n",
    "pl.subplot(0, 0)\n",
    "pl.add_text(\"brain 1 (template)\", font_size=15)\n",
    "pl.add_mesh(m1, color=\"red\")\n",
    "pl.view_xy()\n",
    "\n",
    "pl.subplot(0, 1)\n",
    "pl.add_text(\"interpolated brain\", font_size=15)\n",
    "pl.add_mesh(m2, color=\"purple\")\n",
    "pl.view_xy()\n",
    "\n",
    "pl.subplot(0, 2)\n",
    "pl.add_text(\"brain 2\", font_size=15)\n",
    "pl.add_mesh(m3, color=\"blue\")\n",
    "pl.view_xy()\n",
    "\n",
    "pl.link_views()\n",
    "pl.show()"
   ]
  },
  {
   "cell_type": "code",
   "execution_count": 24,
   "id": "5cd6b68a-7692-40c1-8fa9-54967948d4c9",
   "metadata": {},
   "outputs": [
    {
     "data": {
      "application/vnd.jupyter.widget-view+json": {
       "model_id": "1e77503976914d86bb70d6a1f344e099",
       "version_major": 2,
       "version_minor": 0
      },
      "text/plain": [
       "Widget(value='<iframe src=\"http://localhost:40431/index.html?ui=P_0x7f2eb6d270d0_21&reconnect=auto\" class=\"pyv…"
      ]
     },
     "metadata": {},
     "output_type": "display_data"
    }
   ],
   "source": [
    "pl = pv.Plotter(shape=(1, 3))\n",
    "\n",
    "m1 = pv.read('../toothForge/data/generated_k100/template-sub-001_species-Cercopithecus+cephus_hemi-L/mesh.stl')\n",
    "m2 = pv.read('../toothForge/data/generated_k100/sub-090_species-Tamias+striatus_hemi-L/reconstructed_interp.stl')\n",
    "m3 = pv.read('../toothForge/data/generated_k100/sub-090_species-Tamias+striatus_hemi-L/mesh.stl')\n",
    "\n",
    "pl.subplot(0, 0)\n",
    "pl.add_text(\"brain 1 (template)\", font_size=15)\n",
    "pl.add_mesh(m1, color=\"red\")\n",
    "pl.view_xy()\n",
    "\n",
    "pl.subplot(0, 1)\n",
    "pl.add_text(\"interpolated brain\", font_size=15)\n",
    "pl.add_mesh(m2, color=\"purple\")\n",
    "pl.view_xy()\n",
    "\n",
    "pl.subplot(0, 2)\n",
    "pl.add_text(\"brain 2\", font_size=15)\n",
    "pl.add_mesh(m3, color=\"blue\")\n",
    "pl.view_xy()\n",
    "\n",
    "pl.link_views()\n",
    "pl.show()"
   ]
  },
  {
   "cell_type": "code",
   "execution_count": 25,
   "id": "f85528ba-8122-47c6-88c8-056e98ae72f6",
   "metadata": {},
   "outputs": [
    {
     "data": {
      "application/vnd.jupyter.widget-view+json": {
       "model_id": "24c7e886d21141c9ba7f577230d5a17d",
       "version_major": 2,
       "version_minor": 0
      },
      "text/plain": [
       "Widget(value='<iframe src=\"http://localhost:40431/index.html?ui=P_0x7f2eb6d27910_22&reconnect=auto\" class=\"pyv…"
      ]
     },
     "metadata": {},
     "output_type": "display_data"
    }
   ],
   "source": [
    "import os\n",
    "\n",
    "data_path = '../toothForge/data/generated_k100'\n",
    "\n",
    "aligned_plotter = pv.Plotter()\n",
    "\n",
    "for root, dirs, files in os.walk(data_path):\n",
    "    for folder in dirs:\n",
    "        if folder == 'template-sub-001_species-Cercopithecus+cephus_hemi-L':\n",
    "            mesh = pv.read(os.path.join(root, folder, 'mesh.stl'))\n",
    "            aligned_plotter.add_mesh(mesh, opacity=0.8, color='red')\n",
    "        else:\n",
    "            mesh = pv.read(os.path.join(root, folder, 'reconstructed_aligned.stl'))\n",
    "            aligned_plotter.add_mesh(mesh, opacity=0.4)\n",
    "        \n",
    "\n",
    "aligned_plotter.show()"
   ]
  },
  {
   "cell_type": "code",
   "execution_count": null,
   "id": "cb5051e5-9c3d-45b4-ae04-d65b6eaa0119",
   "metadata": {},
   "outputs": [],
   "source": [
    "# compare how ot looks with the ones they did in vienna paper"
   ]
  },
  {
   "cell_type": "code",
   "execution_count": 55,
   "id": "c96aca57-6dac-4cb9-bbee-5669b8e3dd7b",
   "metadata": {},
   "outputs": [
    {
     "name": "stdout",
     "output_type": "stream",
     "text": [
      "Loaded mesh with 10187 vertices and 20370 faces.\n",
      "Computing Laplacian of shape 10187 x 10187...\n",
      "TriaMesh with regular Laplace-Beltrami\n",
      "Computing top 20 eigenvectors and eigenvalues...\n"
     ]
    },
    {
     "data": {
      "application/vnd.jupyter.widget-view+json": {
       "model_id": "00098ddd35c74085b1abdf4c7a43f2c3",
       "version_major": 2,
       "version_minor": 0
      },
      "text/plain": [
       "Widget(value='<iframe src=\"http://localhost:41875/index.html?ui=P_0x7fb8b982a790_48&reconnect=auto\" class=\"pyv…"
      ]
     },
     "metadata": {},
     "output_type": "display_data"
    }
   ],
   "source": [
    "mesh2 = trimesh.load('../toothForge/data/generated/sub-042_species-Microtus+ochrogaster_hemi-L/reconstructed_aligned.stl')\n",
    "spec_mesh2 = SpectralMesh(mesh2, 20)\n",
    "spec_mesh2.visualize_shape_eigenmodes([1, 2, 3, 5, 10, 15])"
   ]
  },
  {
   "cell_type": "code",
   "execution_count": 56,
   "id": "7b3a06aa-0546-4341-8c16-2f2005376504",
   "metadata": {},
   "outputs": [
    {
     "name": "stdout",
     "output_type": "stream",
     "text": [
      "Loaded mesh with 10187 vertices and 20370 faces.\n",
      "Computing Laplacian of shape 10187 x 10187...\n",
      "TriaMesh with regular Laplace-Beltrami\n",
      "Computing top 20 eigenvectors and eigenvalues...\n"
     ]
    },
    {
     "data": {
      "application/vnd.jupyter.widget-view+json": {
       "model_id": "c2a79938c266424ba2ac63cc5afbf06b",
       "version_major": 2,
       "version_minor": 0
      },
      "text/plain": [
       "Widget(value='<iframe src=\"http://localhost:41875/index.html?ui=P_0x7fb8b88681f0_49&reconnect=auto\" class=\"pyv…"
      ]
     },
     "metadata": {},
     "output_type": "display_data"
    }
   ],
   "source": [
    "mesh3 = trimesh.load('../toothForge/data/generated/sub-088_species-Papio+anubis_hemi-L/reconstructed_aligned.stl')\n",
    "spec_mesh3 = SpectralMesh(mesh3, 20)\n",
    "spec_mesh3.visualize_shape_eigenmodes([1, 2, 3, 5, 10, 15])"
   ]
  },
  {
   "cell_type": "code",
   "execution_count": 24,
   "id": "9fe1bb94-2473-4d9e-8063-ee2ccc49b0ce",
   "metadata": {},
   "outputs": [
    {
     "name": "stdout",
     "output_type": "stream",
     "text": [
      "Loaded mesh with 10187 vertices and 20370 faces.\n",
      "Computing Laplacian of shape 10187 x 10187...\n",
      "TriaMesh with regular Laplace-Beltrami\n",
      "Computing top 20 eigenvectors and eigenvalues...\n"
     ]
    },
    {
     "data": {
      "application/vnd.jupyter.widget-view+json": {
       "model_id": "3cb51d45727e4014be0aec3d58b61001",
       "version_major": 2,
       "version_minor": 0
      },
      "text/plain": [
       "Widget(value='<iframe src=\"http://localhost:35997/index.html?ui=P_0x7f4eca3daeb0_0&reconnect=auto\" class=\"pyvi…"
      ]
     },
     "metadata": {},
     "output_type": "display_data"
    }
   ],
   "source": [
    "mesh4 = trimesh.load('../toothForge/data/generated/template-sub-001_species-Cercopithecus+cephus_hemi-L/mesh.stl')\n",
    "spec_mesh4 = SpectralMesh(mesh4, 20)\n",
    "spec_mesh4.visualize_shape_eigenmodes([1, 2, 3, 5, 10, 15])"
   ]
  },
  {
   "cell_type": "markdown",
   "id": "8aab3d47-3c2d-4b6a-b504-193ede12e47d",
   "metadata": {},
   "source": [
    "### Spectral coefficients"
   ]
  },
  {
   "cell_type": "markdown",
   "id": "e42115d7-fab1-4ace-8f08-a2722f3a1f31",
   "metadata": {},
   "source": [
    "**LOAD THE R MATRIX**\n"
   ]
  },
  {
   "cell_type": "code",
   "execution_count": 2,
   "id": "9dac3e95-8a9e-4490-9340-12e03f4c76fc",
   "metadata": {},
   "outputs": [],
   "source": [
    "import h5py\n",
    "import matplotlib as plt"
   ]
  },
  {
   "cell_type": "code",
   "execution_count": 31,
   "id": "52d7b4eb-e575-4401-b358-7b26f135289e",
   "metadata": {},
   "outputs": [],
   "source": [
    "f = h5py.File(\"../toothForge/data/generated_k100/template-sub-001_species-Cercopithecus+cephus_hemi-L/spectrum.h5\")"
   ]
  },
  {
   "cell_type": "code",
   "execution_count": 32,
   "id": "c6919441-4671-439f-80e1-55c561c4aba5",
   "metadata": {},
   "outputs": [
    {
     "data": {
      "text/plain": [
       "<KeysViewHDF5 ['CLASS', 'PYTABLES_FORMAT_VERSION', 'TITLE', 'VERSION']>"
      ]
     },
     "execution_count": 32,
     "metadata": {},
     "output_type": "execute_result"
    }
   ],
   "source": [
    "f.attrs.keys()"
   ]
  },
  {
   "cell_type": "code",
   "execution_count": 33,
   "id": "34f14f37-a8e8-4be3-b27e-86d76a39d8d6",
   "metadata": {},
   "outputs": [
    {
     "name": "stdout",
     "output_type": "stream",
     "text": [
      "evals -> <class 'h5py._hl.dataset.Dataset'>\n",
      "evecs -> <class 'h5py._hl.dataset.Dataset'>\n"
     ]
    }
   ],
   "source": [
    "def print_structure(name, obj):\n",
    "    print(f\"{name} -> {type(obj)}\")\n",
    "f.visititems(print_structure)"
   ]
  },
  {
   "cell_type": "code",
   "execution_count": 34,
   "id": "be4e9fb4-0d53-48a7-8c51-d7544accea0d",
   "metadata": {},
   "outputs": [
    {
     "data": {
      "text/plain": [
       "['evals', 'evecs']"
      ]
     },
     "execution_count": 34,
     "metadata": {},
     "output_type": "execute_result"
    }
   ],
   "source": [
    "list(f.keys())"
   ]
  },
  {
   "cell_type": "code",
   "execution_count": 35,
   "id": "faaa498f-4fa0-4c18-9e20-01073cd1ced3",
   "metadata": {},
   "outputs": [
    {
     "data": {
      "text/plain": [
       "<HDF5 dataset \"evecs\": shape (10187, 100), type \"<f8\">"
      ]
     },
     "execution_count": 35,
     "metadata": {},
     "output_type": "execute_result"
    }
   ],
   "source": [
    "f['evecs']"
   ]
  },
  {
   "cell_type": "code",
   "execution_count": 36,
   "id": "be1c9c9c-571d-46bc-8858-0992f048d186",
   "metadata": {},
   "outputs": [
    {
     "data": {
      "text/plain": [
       "array([[ 0.00879349,  0.01399543,  0.00359316, ...,  0.0023123 ,\n",
       "         0.00025356,  0.01521198],\n",
       "       [ 0.0085481 ,  0.01394724,  0.00398762, ...,  0.00127327,\n",
       "        -0.00309177,  0.01424005],\n",
       "       [-0.01393823,  0.00101713, -0.01191719, ...,  0.02580674,\n",
       "         0.01056921, -0.0286914 ],\n",
       "       ...,\n",
       "       [-0.00979889,  0.01102832,  0.00808917, ...,  0.00591357,\n",
       "        -0.00868288,  0.01925216],\n",
       "       [-0.00955844,  0.01098198,  0.00859864, ...,  0.00191086,\n",
       "        -0.00739453,  0.02000951],\n",
       "       [-0.01009799,  0.01190236, -0.0033123 , ..., -0.00643557,\n",
       "        -0.00132802,  0.01861069]])"
      ]
     },
     "execution_count": 36,
     "metadata": {},
     "output_type": "execute_result"
    }
   ],
   "source": [
    "f['evecs'][()]"
   ]
  },
  {
   "cell_type": "code",
   "execution_count": 38,
   "id": "f6366cd1-2b44-48a7-8cde-f8bc7e5f079a",
   "metadata": {},
   "outputs": [
    {
     "name": "stdout",
     "output_type": "stream",
     "text": [
      "Loaded mesh with 10187 vertices and 20370 faces.\n",
      "Computing Laplacian of shape 10187 x 10187...\n",
      "TriaMesh with regular Laplace-Beltrami\n",
      "Computing top 100 eigenvectors and eigenvalues...\n"
     ]
    }
   ],
   "source": [
    "g = SpectralMesh(\"Surfaces/sub-001_species-Cercopithecus+cephus_hemi-L.surf.gii\", k=100)"
   ]
  },
  {
   "cell_type": "code",
   "execution_count": 39,
   "id": "fc83a5e0-d4cd-4821-b2a7-6a1f66a12e72",
   "metadata": {},
   "outputs": [
    {
     "data": {
      "text/plain": [
       "array([[ 0.00879349,  0.01399543,  0.00359316, ...,  0.0023123 ,\n",
       "         0.00025356,  0.01521198],\n",
       "       [ 0.0085481 ,  0.01394724,  0.00398762, ...,  0.00127327,\n",
       "        -0.00309177,  0.01424005],\n",
       "       [-0.01393823,  0.00101713, -0.01191719, ...,  0.02580674,\n",
       "         0.01056921, -0.0286914 ],\n",
       "       ...,\n",
       "       [-0.00979889,  0.01102832,  0.00808917, ...,  0.00591357,\n",
       "        -0.00868288,  0.01925216],\n",
       "       [-0.00955844,  0.01098198,  0.00859864, ...,  0.00191086,\n",
       "        -0.00739453,  0.02000951],\n",
       "       [-0.01009799,  0.01190236, -0.0033123 , ..., -0.00643557,\n",
       "        -0.00132802,  0.01861069]])"
      ]
     },
     "execution_count": 39,
     "metadata": {},
     "output_type": "execute_result"
    }
   ],
   "source": [
    "g.graph.eig_vecs"
   ]
  },
  {
   "cell_type": "code",
   "execution_count": null,
   "id": "973bd600-1c2c-4581-8e93-0dbb28ba0930",
   "metadata": {},
   "outputs": [],
   "source": []
  }
 ],
 "metadata": {
  "kernelspec": {
   "display_name": "Python 3 (ipykernel)",
   "language": "python",
   "name": "python3"
  },
  "language_info": {
   "codemirror_mode": {
    "name": "ipython",
    "version": 3
   },
   "file_extension": ".py",
   "mimetype": "text/x-python",
   "name": "python",
   "nbconvert_exporter": "python",
   "pygments_lexer": "ipython3",
   "version": "3.10.12"
  }
 },
 "nbformat": 4,
 "nbformat_minor": 5
}
