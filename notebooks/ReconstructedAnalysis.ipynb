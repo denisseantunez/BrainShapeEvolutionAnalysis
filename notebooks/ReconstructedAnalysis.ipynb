{
 "cells": [
  {
   "cell_type": "markdown",
   "id": "328ce2af-67ba-420f-9e38-6648f4980732",
   "metadata": {},
   "source": [
    "## **Reconstructed meshes**"
   ]
  },
  {
   "cell_type": "code",
   "execution_count": 2,
   "id": "4e47402e-cda1-42b3-8c64-6762b67996f8",
   "metadata": {},
   "outputs": [
    {
     "name": "stderr",
     "output_type": "stream",
     "text": [
      "/home/usagers/u139043/Documents/Imaging/.env/lib64/python3.9/site-packages/networkx/utils/backends.py:135: RuntimeWarning: networkx backend defined more than once: nx-loopback\n",
      "  backends.update(_get_backends(\"networkx.backends\"))\n"
     ]
    }
   ],
   "source": [
    "import trimesh\n",
    "import os\n",
    "import pyvista as pv"
   ]
  },
  {
   "cell_type": "markdown",
   "id": "b46b7aea-c182-484d-981e-852ae56c3122",
   "metadata": {},
   "source": [
    "### **90 Original brain meshes**"
   ]
  },
  {
   "cell_type": "code",
   "execution_count": 3,
   "id": "88719e4d-5109-4495-8862-f91e7dbe66df",
   "metadata": {},
   "outputs": [
    {
     "data": {
      "application/vnd.jupyter.widget-view+json": {
       "model_id": "5fdfff2b3ef54f2c81b397125f809b63",
       "version_major": 2,
       "version_minor": 0
      },
      "text/plain": [
       "Widget(value='<iframe src=\"http://localhost:34921/index.html?ui=P_0x7fb44e2d2880_0&reconnect=auto\" class=\"pyvi…"
      ]
     },
     "metadata": {},
     "output_type": "display_data"
    }
   ],
   "source": [
    "data_path = '../toothForge/data/generated'\n",
    "\n",
    "plotter = pv.Plotter(shape=(10, 9), window_size=(1000, 1200))\n",
    "\n",
    "i = 0\n",
    "\n",
    "for root, dirs, files in os.walk(data_path):\n",
    "    for folder in sorted(dirs):\n",
    "        \n",
    "        if folder == 'template-sub-001_species-Cercopithecus+cephus_hemi-L':\n",
    "            continue\n",
    "            #mesh = pv.read(os.path.join(root, folder, 'mesh.stl'))\n",
    "            #unaligned_plotter.add_mesh(mesh, opacity=.95, color='red')\n",
    "        else:\n",
    "            mesh = pv.read(os.path.join(root, folder, 'mesh.stl'))\n",
    "        \n",
    "\n",
    "            row = i // 9\n",
    "            col = i % 9\n",
    "            plotter.subplot(row, col)\n",
    "            plotter.add_mesh(mesh, opacity=1, color='mediumseagreen')\n",
    "            i += 1\n",
    "\n",
    "\n",
    "\n",
    "            plotter.camera_position = [\n",
    "                            (-1, 0, 0), \n",
    "                            (0, 0, 0),   \n",
    "                            (0, 0, 1)    \n",
    "            ]\n",
    "            plotter.reset_camera()\n",
    "\n",
    "\n",
    "plotter.show()"
   ]
  },
  {
   "cell_type": "markdown",
   "id": "5d446f9c-12a0-497b-92b4-7597047c5df1",
   "metadata": {},
   "source": [
    "## **90 Reconstructed brain meshes**"
   ]
  },
  {
   "cell_type": "markdown",
   "id": "1cb0278d-711e-465c-a74f-bfe903f1fdb3",
   "metadata": {},
   "source": [
    "***No pre-alignment, k=20***"
   ]
  },
  {
   "cell_type": "code",
   "execution_count": 4,
   "id": "914236aa-6b2b-4d9e-84e9-a8c52d6e0a73",
   "metadata": {},
   "outputs": [
    {
     "data": {
      "application/vnd.jupyter.widget-view+json": {
       "model_id": "ecf5545da04247e088b3083346709a73",
       "version_major": 2,
       "version_minor": 0
      },
      "text/plain": [
       "Widget(value='<iframe src=\"http://localhost:38329/index.html?ui=P_0x7f6a5c885d00_1&reconnect=auto\" class=\"pyvi…"
      ]
     },
     "metadata": {},
     "output_type": "display_data"
    }
   ],
   "source": [
    "data_path = '../toothForge/data/generated_before'\n",
    "\n",
    "plotter = pv.Plotter(shape=(10, 9), window_size=(1000, 1200))\n",
    "i = 0\n",
    "\n",
    "for root, dirs, files in os.walk(data_path):\n",
    "    for folder in sorted(dirs):\n",
    "        \n",
    "        if folder == 'template-sub-001_species-Cercopithecus+cephus_hemi-L':\n",
    "            continue\n",
    "            #mesh = pv.read(os.path.join(root, folder, 'mesh.stl'))\n",
    "            #unaligned_plotter.add_mesh(mesh, opacity=.95, color='red')\n",
    "        else:\n",
    "            mesh = pv.read(os.path.join(root, folder, 'reconstructed_aligned.stl'))\n",
    "        \n",
    "\n",
    "            row = i // 9\n",
    "            col = i % 9\n",
    "            plotter.subplot(row, col)\n",
    "            plotter.add_mesh(mesh, opacity=1, color='orchid')\n",
    "            i += 1\n",
    "\n",
    "\n",
    "            plotter.camera_position = [\n",
    "                            (-1, 0, 0),  \n",
    "                            (0, 0, 0),   \n",
    "                            (0, 0, 1)    \n",
    "            ]\n",
    "            plotter.reset_camera()\n",
    "\n",
    "plotter.show()"
   ]
  },
  {
   "cell_type": "code",
   "execution_count": 49,
   "id": "7f2d0e46-c236-461e-9e68-4d96c02018ab",
   "metadata": {},
   "outputs": [
    {
     "data": {
      "application/vnd.jupyter.widget-view+json": {
       "model_id": "a9847b816fb94415a1b677d9f60d03d9",
       "version_major": 2,
       "version_minor": 0
      },
      "text/plain": [
       "Widget(value='<iframe src=\"http://localhost:36041/index.html?ui=P_0x7f6fab98e3a0_39&reconnect=auto\" class=\"pyv…"
      ]
     },
     "metadata": {},
     "output_type": "display_data"
    }
   ],
   "source": [
    "data_path = '../toothForge/data/generated_before'\n",
    "\n",
    "plotter = pv.Plotter(shape=(10, 9), window_size=(1000, 1200))\n",
    "i = 0\n",
    "\n",
    "for root, dirs, files in os.walk(data_path):\n",
    "    for folder in sorted(dirs):\n",
    "        \n",
    "        if folder == 'template-sub-001_species-Cercopithecus+cephus_hemi-L':\n",
    "            continue\n",
    "            #mesh = pv.read(os.path.join(root, folder, 'mesh.stl'))\n",
    "            #unaligned_plotter.add_mesh(mesh, opacity=.95, color='red')\n",
    "        else:\n",
    "            mesh = pv.read(os.path.join(root, folder, 'reconstructed_interp.stl'))\n",
    "        \n",
    "\n",
    "            row = i // 9\n",
    "            col = i % 9\n",
    "            plotter.subplot(row, col)\n",
    "            plotter.add_mesh(mesh, opacity=1, color='royalblue')\n",
    "            i += 1\n",
    " \n",
    "\n",
    "            plotter.camera_position = [\n",
    "                            (-1, 0, 0), \n",
    "                            (0, 0, 0),  \n",
    "                            (0, 0, 1)   \n",
    "            ]\n",
    "            plotter.reset_camera()\n",
    "\n",
    "plotter.show()"
   ]
  },
  {
   "cell_type": "markdown",
   "id": "7c7b5f51-d48c-42ad-83a4-567ad4655730",
   "metadata": {},
   "source": [
    "***Pre-alignment, k=20***"
   ]
  },
  {
   "cell_type": "code",
   "execution_count": 4,
   "id": "cb006b36-b133-4d6e-899f-971cb9cea17b",
   "metadata": {},
   "outputs": [
    {
     "data": {
      "application/vnd.jupyter.widget-view+json": {
       "model_id": "3d4b25f9f5da482e9d0ccddd09c7092c",
       "version_major": 2,
       "version_minor": 0
      },
      "text/plain": [
       "Widget(value='<iframe src=\"http://localhost:37799/index.html?ui=P_0x7f7543e9b730_1&reconnect=auto\" class=\"pyvi…"
      ]
     },
     "metadata": {},
     "output_type": "display_data"
    }
   ],
   "source": [
    "data_path = '../toothForge/data/generated_e12'\n",
    "\n",
    "plotter = pv.Plotter(shape=(10, 9), window_size=(1000, 1200))\n",
    "i = 0\n",
    "\n",
    "for root, dirs, files in os.walk(data_path):\n",
    "    for folder in sorted(dirs):\n",
    "        \n",
    "        if folder == 'template-sub-001_species-Cercopithecus+cephus_hemi-L':\n",
    "            continue\n",
    "            #mesh = pv.read(os.path.join(root, folder, 'mesh.stl'))\n",
    "            #unaligned_plotter.add_mesh(mesh, opacity=.95, color='red')\n",
    "        else:\n",
    "            mesh = pv.read(os.path.join(root, folder, 'reconstructed_aligned.stl'))\n",
    "        \n",
    "\n",
    "            row = i // 9\n",
    "            col = i % 9\n",
    "            plotter.subplot(row, col)\n",
    "            plotter.add_mesh(mesh, opacity=1, color='orchid')\n",
    "            i += 1\n",
    "\n",
    "\n",
    "            plotter.camera_position = [\n",
    "                            (-1, 0, 0),  \n",
    "                            (0, 0, 0),   \n",
    "                            (0, 0, 1)    \n",
    "            ]\n",
    "            plotter.reset_camera()\n",
    "\n",
    "plotter.show()"
   ]
  },
  {
   "cell_type": "markdown",
   "id": "819c480b-38be-4550-9900-f5ed8087fdf5",
   "metadata": {},
   "source": [
    "**Interpolation comparison without and with pre-alignment**"
   ]
  },
  {
   "cell_type": "code",
   "execution_count": 6,
   "id": "eefce1d0-c28d-4b62-85f2-5377449a8002",
   "metadata": {},
   "outputs": [
    {
     "data": {
      "application/vnd.jupyter.widget-view+json": {
       "model_id": "9786a6d1948e49ea845aff48d22abded",
       "version_major": 2,
       "version_minor": 0
      },
      "text/plain": [
       "Widget(value='<iframe src=\"http://localhost:36041/index.html?ui=P_0x7f6fb4d6b0d0_4&reconnect=auto\" class=\"pyvi…"
      ]
     },
     "metadata": {},
     "output_type": "display_data"
    }
   ],
   "source": [
    "pl = pv.Plotter(shape=(1, 3))\n",
    "\n",
    "m1 = pv.read('../toothForge/data/generated_before/template-sub-001_species-Cercopithecus+cephus_hemi-L/mesh.stl')\n",
    "m2 = pv.read('../toothForge/data/generated_before/sub-002_species-Chlorocebus+sabaeus_hemi-L/reconstructed_interp.stl')\n",
    "m3 = pv.read('../toothForge/data/generated_before/sub-002_species-Chlorocebus+sabaeus_hemi-L/mesh.stl')\n",
    "\n",
    "pl.subplot(0, 0)\n",
    "pl.add_text(\"brain 1 (template)\", font_size=15)\n",
    "pl.add_mesh(m1, color=\"red\")\n",
    "pl.view_xy()\n",
    "\n",
    "pl.subplot(0, 1)\n",
    "pl.add_text(\"interpolated brain\", font_size=15)\n",
    "pl.add_mesh(m2, color=\"purple\")\n",
    "pl.view_xy()\n",
    "\n",
    "pl.subplot(0, 2)\n",
    "pl.add_text(\"brain 2\", font_size=15)\n",
    "pl.add_mesh(m3, color=\"blue\")\n",
    "pl.view_xy()\n",
    "\n",
    "pl.link_views()\n",
    "pl.show()"
   ]
  },
  {
   "cell_type": "code",
   "execution_count": 12,
   "id": "5355f3ec-a171-4e1d-91b8-9d783b952cf2",
   "metadata": {},
   "outputs": [
    {
     "data": {
      "application/vnd.jupyter.widget-view+json": {
       "model_id": "78034ee18bba4b2e8bec64cee1b395fd",
       "version_major": 2,
       "version_minor": 0
      },
      "text/plain": [
       "Widget(value='<iframe src=\"http://localhost:38329/index.html?ui=P_0x7f6a09d57940_9&reconnect=auto\" class=\"pyvi…"
      ]
     },
     "metadata": {},
     "output_type": "display_data"
    }
   ],
   "source": [
    "pl = pv.Plotter(shape=(1, 3))\n",
    "\n",
    "m1 = pv.read('../toothForge/data/generated/template-sub-001_species-Cercopithecus+cephus_hemi-L/mesh.stl')\n",
    "m2 = pv.read('../toothForge/data/generated/sub-002_species-Chlorocebus+sabaeus_hemi-L/reconstructed_interp.stl')\n",
    "m3 = pv.read('../toothForge/data/generated/sub-002_species-Chlorocebus+sabaeus_hemi-L/mesh.stl')\n",
    "\n",
    "pl.subplot(0, 0)\n",
    "pl.add_text(\"brain 1 (template)\", font_size=15)\n",
    "pl.add_mesh(m1, color=\"red\")\n",
    "pl.view_xy()\n",
    "\n",
    "pl.subplot(0, 1)\n",
    "pl.add_text(\"interpolated brain\", font_size=15)\n",
    "pl.add_mesh(m2, color=\"purple\")\n",
    "pl.view_xy()\n",
    "\n",
    "pl.subplot(0, 2)\n",
    "pl.add_text(\"brain 2\", font_size=15)\n",
    "pl.add_mesh(m3, color=\"blue\")\n",
    "pl.view_xy()\n",
    "\n",
    "pl.link_views()\n",
    "pl.show()"
   ]
  },
  {
   "cell_type": "markdown",
   "id": "7ea51a5c-ace5-43c8-aadf-683643d605ca",
   "metadata": {},
   "source": [
    "**For all 90 brains...**"
   ]
  },
  {
   "cell_type": "code",
   "execution_count": 13,
   "id": "cd081d7d-dee7-4728-8f75-b238e6ae1e37",
   "metadata": {},
   "outputs": [
    {
     "data": {
      "application/vnd.jupyter.widget-view+json": {
       "model_id": "c949eeda53104ab4a04e85c85aeca605",
       "version_major": 2,
       "version_minor": 0
      },
      "text/plain": [
       "Widget(value='<iframe src=\"http://localhost:38329/index.html?ui=P_0x7f6a0a3e3310_10&reconnect=auto\" class=\"pyv…"
      ]
     },
     "metadata": {},
     "output_type": "display_data"
    }
   ],
   "source": [
    "data_path = '../toothForge/data/generated'\n",
    "\n",
    "plotter = pv.Plotter(shape=(10, 9), window_size=(1000, 1200))\n",
    "i = 0\n",
    "\n",
    "for root, dirs, files in os.walk(data_path):\n",
    "    for folder in sorted(dirs):\n",
    "        \n",
    "        if folder == 'template-sub-001_species-Cercopithecus+cephus_hemi-L':\n",
    "            continue\n",
    "            #mesh = pv.read(os.path.join(root, folder, 'mesh.stl'))\n",
    "            #unaligned_plotter.add_mesh(mesh, opacity=.95, color='red')\n",
    "        else:\n",
    "            mesh = pv.read(os.path.join(root, folder, 'reconstructed_interp.stl'))\n",
    "        \n",
    "\n",
    "            row = i // 9\n",
    "            col = i % 9\n",
    "            plotter.subplot(row, col)\n",
    "            plotter.add_mesh(mesh, opacity=1, color='royalblue')\n",
    "            i += 1\n",
    "\n",
    "\n",
    "            plotter.camera_position = [\n",
    "                            (-1, 0, 0),  \n",
    "                            (0, 0, 0),  \n",
    "                            (0, 0, 1)    \n",
    "            ]\n",
    "            plotter.reset_camera()\n",
    "\n",
    "plotter.show()"
   ]
  },
  {
   "cell_type": "markdown",
   "id": "8d5916de-409b-4528-9d16-5f661f42d807",
   "metadata": {},
   "source": [
    "**Pre-alignment, k=100**"
   ]
  },
  {
   "cell_type": "code",
   "execution_count": 14,
   "id": "6a8bb1e4-25e9-4c1b-adec-96438995955c",
   "metadata": {},
   "outputs": [
    {
     "data": {
      "application/vnd.jupyter.widget-view+json": {
       "model_id": "96487433b23b4bd9b2999bd78114dc0f",
       "version_major": 2,
       "version_minor": 0
      },
      "text/plain": [
       "Widget(value='<iframe src=\"http://localhost:38329/index.html?ui=P_0x7f6a0eb59070_11&reconnect=auto\" class=\"pyv…"
      ]
     },
     "metadata": {},
     "output_type": "display_data"
    }
   ],
   "source": [
    "data_path = '../toothForge/data/generated_k100'\n",
    "\n",
    "plotter = pv.Plotter(shape=(10, 9), window_size=(1000, 1200))\n",
    "i = 0\n",
    "\n",
    "for root, dirs, files in os.walk(data_path):\n",
    "    for folder in sorted(dirs):\n",
    "        \n",
    "        if folder == 'template-sub-001_species-Cercopithecus+cephus_hemi-L':\n",
    "            continue\n",
    "            #mesh = pv.read(os.path.join(root, folder, 'mesh.stl'))\n",
    "            #unaligned_plotter.add_mesh(mesh, opacity=.95, color='red')\n",
    "        else:\n",
    "            mesh = pv.read(os.path.join(root, folder, 'reconstructed_aligned.stl'))\n",
    "        \n",
    "\n",
    "            row = i // 9\n",
    "            col = i % 9\n",
    "            plotter.subplot(row, col)\n",
    "            plotter.add_mesh(mesh, opacity=1, color='orchid')\n",
    "            i += 1\n",
    "\n",
    "            if i >= 90:\n",
    "                break \n",
    "                \n",
    "            plotter.camera_position = [\n",
    "                            (-1, 0, 0),  \n",
    "                            (0, 0, 0),  \n",
    "                            (0, 0, 1)    \n",
    "            ]\n",
    "            plotter.reset_camera()\n",
    "\n",
    "plotter.show()"
   ]
  },
  {
   "cell_type": "code",
   "execution_count": 11,
   "id": "1476678e-52fd-428a-95bc-f8af458060d6",
   "metadata": {},
   "outputs": [
    {
     "data": {
      "application/vnd.jupyter.widget-view+json": {
       "model_id": "cab0fa3e08b343adb4380587358bee03",
       "version_major": 2,
       "version_minor": 0
      },
      "text/plain": [
       "Widget(value='<iframe src=\"http://localhost:38329/index.html?ui=P_0x7f6a0a143f70_8&reconnect=auto\" class=\"pyvi…"
      ]
     },
     "metadata": {},
     "output_type": "display_data"
    }
   ],
   "source": [
    "data_path = '../toothForge/data/generated_k100'\n",
    "\n",
    "plotter = pv.Plotter(shape=(10, 9), window_size=(1000, 1200))\n",
    "i = 0\n",
    "\n",
    "for root, dirs, files in os.walk(data_path):\n",
    "    for folder in dirs:\n",
    "        \n",
    "        if folder == 'template-sub-001_species-Cercopithecus+cephus_hemi-L':\n",
    "            continue\n",
    "            #mesh = pv.read(os.path.join(root, folder, 'mesh.stl'))\n",
    "            #unaligned_plotter.add_mesh(mesh, opacity=.95, color='red')\n",
    "        else:\n",
    "            mesh = pv.read(os.path.join(root, folder, 'reconstructed_interp.stl'))\n",
    "        \n",
    "\n",
    "            row = i // 9\n",
    "            col = i % 9\n",
    "            plotter.subplot(row, col)\n",
    "            plotter.add_mesh(mesh, opacity=1, color='royalblue')\n",
    "            i += 1\n",
    "\n",
    "\n",
    "            plotter.camera_position = [\n",
    "                            (-1, 0, 0),  # Camera position (from -X)\n",
    "                            (0, 0, 0),   # Focal point (center of the scene)\n",
    "                            (0, 0, 1)    # View up (Z axis up)\n",
    "            ]\n",
    "            plotter.reset_camera()\n",
    "\n",
    "plotter.show()"
   ]
  },
  {
   "cell_type": "markdown",
   "id": "425ca4c0-6054-46cc-8897-5183dcdee9ea",
   "metadata": {},
   "source": [
    "## **Project template eigenvectors**"
   ]
  },
  {
   "cell_type": "markdown",
   "id": "8bf6d437-09fd-4b2f-aa90-64310f50ff05",
   "metadata": {},
   "source": [
    "### **Eigenvector 1**"
   ]
  },
  {
   "cell_type": "code",
   "execution_count": 3,
   "id": "632b1026-63f0-4191-b2a2-00c2c9861ca1",
   "metadata": {},
   "outputs": [
    {
     "data": {
      "application/vnd.jupyter.widget-view+json": {
       "model_id": "dddb424a71de489ba43e2d375e83985b",
       "version_major": 2,
       "version_minor": 0
      },
      "text/plain": [
       "Widget(value='<iframe src=\"http://localhost:32933/index.html?ui=P_0x71f9f3ca27d0_1&reconnect=auto\" class=\"pyvi…"
      ]
     },
     "metadata": {},
     "output_type": "display_data"
    }
   ],
   "source": [
    "import h5py\n",
    "import numpy as np\n",
    "import pyvista as pv\n",
    "import matplotlib.pyplot as plt\n",
    "\n",
    "\n",
    "spec_file = h5py.File('../toothForge/data/generated_k100/template-sub-001_species-Cercopithecus+cephus_hemi-L/spectrum.h5')\n",
    "evecs = spec_file['evecs'][()]\n",
    "\n",
    "spat_file = h5py.File('../toothForge/data/generated_k100/template-sub-001_species-Cercopithecus+cephus_hemi-L/spatial.h5')\n",
    "coords = spat_file['coords'][()]\n",
    "faces = spat_file['faces'][()]\n",
    "\n",
    "plotter = pv.Plotter()\n",
    "\n",
    "#mesh = pv.read('../toothForge/data/generated_k100/template-sub-001_species-Cercopithecus+cephus_hemi-L/mesh.stl')\n",
    "mesh = trimesh.Trimesh(vertices=coords, faces=faces)\n",
    "\n",
    "jet_cmap = plt.get_cmap('jet')\n",
    "\n",
    "eigenmodes_m_sliced = evecs[:, 0]\n",
    "eigenmodes_m_n = (eigenmodes_m_sliced - np.min(eigenmodes_m_sliced)) / (np.max(eigenmodes_m_sliced) - np.min(eigenmodes_m_sliced))\n",
    "clrs_m = (jet_cmap(eigenmodes_m_n)[:, :3] * 255).astype(np.uint8)\n",
    " \n",
    "\n",
    "plotter.add_mesh(mesh, scalars=clrs_m, rgb=True, point_size=10)\n",
    "            \n",
    "\n",
    "plotter.camera_position = [\n",
    "    (-1, 0, 0), \n",
    "    (0, 0, 0),   \n",
    "    (0, 0, 1)    \n",
    "]\n",
    "plotter.reset_camera()\n",
    "plotter.link_views()\n",
    "plotter.show()\n"
   ]
  },
  {
   "cell_type": "code",
   "execution_count": 4,
   "id": "3ab3ad9c-01d4-448c-bffc-989206ab9769",
   "metadata": {},
   "outputs": [
    {
     "data": {
      "application/vnd.jupyter.widget-view+json": {
       "model_id": "d1be8cd5f19c4eecbd35a0ba9e6c59a8",
       "version_major": 2,
       "version_minor": 0
      },
      "text/plain": [
       "Widget(value='<iframe src=\"http://localhost:32933/index.html?ui=P_0x71f8bc6d4b50_2&reconnect=auto\" class=\"pyvi…"
      ]
     },
     "metadata": {},
     "output_type": "display_data"
    }
   ],
   "source": [
    "import os\n",
    "import numpy as np\n",
    "import h5py\n",
    "import pyvista as pv\n",
    "import trimesh\n",
    "from matplotlib import pyplot as plt\n",
    "from scipy.spatial import cKDTree\n",
    "\n",
    "data_path = '../toothForge/data/generated_k100'\n",
    "\n",
    "\n",
    "template_path = '../toothForge/data/generated_k100/template-sub-001_species-Cercopithecus+cephus_hemi-L'\n",
    "\n",
    "with h5py.File(os.path.join(template_path, 'spectrum.h5'), 'r') as spec_file:\n",
    "    evecs = spec_file['evecs'][()]\n",
    "with h5py.File(os.path.join(template_path, 'spatial.h5'), 'r') as coord_file:\n",
    "    template_coords = coord_file['coords'][()]\n",
    "\n",
    "\n",
    "eigenmode = evecs[:, 0]\n",
    "normed = (eigenmode - eigenmode.min()) / (eigenmode.max() - eigenmode.min())\n",
    "jet_cmap = plt.get_cmap('jet')\n",
    "template_colors = (jet_cmap(normed)[:, :3] * 255).astype(np.uint8)\n",
    "\n",
    "\n",
    "template_tree = cKDTree(template_coords)\n",
    "\n",
    "plotter = pv.Plotter(shape=(10, 9), window_size=(1000, 1200))\n",
    "i = 0\n",
    "\n",
    "for root, dirs, files in os.walk(data_path):\n",
    "    for folder in dirs:\n",
    "        if folder == 'template-sub-001_species-Cercopithecus+cephus_hemi-L':\n",
    "            continue\n",
    "\n",
    "        stl_path = os.path.join(root, folder, 'reconstructed_aligned.stl')\n",
    "        tmesh = trimesh.load_mesh(stl_path, process=False)\n",
    "        verts = tmesh.vertices\n",
    "        faces = tmesh.faces\n",
    "        faces_pv = np.hstack([np.full((faces.shape[0], 1), 3), faces]).flatten()\n",
    "        mesh = pv.PolyData(verts, faces_pv)\n",
    "\n",
    "        # trimesh load_mesh, vertex order is not preserved\n",
    "        # Match each vertex in STL mesh to nearest template vertex\n",
    "        _, indices = template_tree.query(verts)\n",
    "        mapped_colors = template_colors[indices]\n",
    "\n",
    "        row = i // 9\n",
    "        col = i % 9\n",
    "        plotter.subplot(row, col)\n",
    "        mesh.point_data['colors'] = mapped_colors\n",
    "        plotter.add_mesh(mesh, scalars='colors', rgb=True)\n",
    "        i += 1\n",
    "        if i >= 90:\n",
    "            break\n",
    "\n",
    "        plotter.camera_position = [\n",
    "                            (-1, 0, 0), \n",
    "                            (0, 0, 0), \n",
    "                            (0, 0, 1)   \n",
    "        ]\n",
    "        plotter.reset_camera()\n",
    "\n",
    "\n",
    "plotter.show()\n"
   ]
  },
  {
   "cell_type": "markdown",
   "id": "e793306b-ba0a-4c71-814e-2e43b89c822b",
   "metadata": {},
   "source": [
    "### **Eigenvector 2**"
   ]
  },
  {
   "cell_type": "code",
   "execution_count": 5,
   "id": "1485c7c6-2010-4b4b-8ca3-c9689c37c7fb",
   "metadata": {},
   "outputs": [
    {
     "data": {
      "application/vnd.jupyter.widget-view+json": {
       "model_id": "b2f011326b2145ac9404c892a0b43cb9",
       "version_major": 2,
       "version_minor": 0
      },
      "text/plain": [
       "Widget(value='<iframe src=\"http://localhost:32933/index.html?ui=P_0x71f8bc6d57b0_3&reconnect=auto\" class=\"pyvi…"
      ]
     },
     "metadata": {},
     "output_type": "display_data"
    }
   ],
   "source": [
    "import h5py\n",
    "import numpy as np\n",
    "import pyvista as pv\n",
    "import matplotlib.pyplot as plt\n",
    "\n",
    "\n",
    "spec_file = h5py.File('../toothForge/data/generated_k100/template-sub-001_species-Cercopithecus+cephus_hemi-L/spectrum.h5')\n",
    "evecs = spec_file['evecs'][()]\n",
    "\n",
    "spat_file = h5py.File('../toothForge/data/generated_k100/template-sub-001_species-Cercopithecus+cephus_hemi-L/spatial.h5')\n",
    "coords = spat_file['coords'][()]\n",
    "faces = spat_file['faces'][()]\n",
    "\n",
    "plotter = pv.Plotter()\n",
    "\n",
    "#mesh = pv.read('../toothForge/data/generated_k100/template-sub-001_species-Cercopithecus+cephus_hemi-L/mesh.stl')\n",
    "mesh = trimesh.Trimesh(vertices=coords, faces=faces)\n",
    "\n",
    "jet_cmap = plt.get_cmap('jet')\n",
    "\n",
    "eigenmodes_m_sliced = evecs[:, 1]\n",
    "eigenmodes_m_n = (eigenmodes_m_sliced - np.min(eigenmodes_m_sliced)) / (np.max(eigenmodes_m_sliced) - np.min(eigenmodes_m_sliced))\n",
    "clrs_m = (jet_cmap(eigenmodes_m_n)[:, :3] * 255).astype(np.uint8)\n",
    " \n",
    "\n",
    "plotter.add_mesh(mesh, scalars=clrs_m, rgb=True, point_size=10)\n",
    "            \n",
    "\n",
    "plotter.camera_position = [\n",
    "    (-1, 0, 0), \n",
    "    (0, 0, 0),  \n",
    "    (0, 0, 1)    \n",
    "]\n",
    "plotter.reset_camera()\n",
    "plotter.link_views()\n",
    "plotter.show()\n"
   ]
  },
  {
   "cell_type": "code",
   "execution_count": 14,
   "id": "fb5ce856-b526-45bd-8dfe-3f2ac1a3ff57",
   "metadata": {},
   "outputs": [
    {
     "data": {
      "application/vnd.jupyter.widget-view+json": {
       "model_id": "28b7892aaa0f43c384cd6f8a978b588e",
       "version_major": 2,
       "version_minor": 0
      },
      "text/plain": [
       "Widget(value='<iframe src=\"http://localhost:36041/index.html?ui=P_0x7f6fabca7790_12&reconnect=auto\" class=\"pyv…"
      ]
     },
     "metadata": {},
     "output_type": "display_data"
    }
   ],
   "source": [
    "import os\n",
    "import numpy as np\n",
    "import h5py\n",
    "import pyvista as pv\n",
    "import trimesh\n",
    "from matplotlib import pyplot as plt\n",
    "from scipy.spatial import cKDTree\n",
    "\n",
    "data_path = '../toothForge/data/generated_k100'\n",
    "\n",
    "\n",
    "template_path = '../toothForge/data/generated_k100/template-sub-001_species-Cercopithecus+cephus_hemi-L'\n",
    "\n",
    "with h5py.File(os.path.join(template_path, 'spectrum.h5'), 'r') as spec_file:\n",
    "    evecs = spec_file['evecs'][()]\n",
    "with h5py.File(os.path.join(template_path, 'spatial.h5'), 'r') as coord_file:\n",
    "    template_coords = coord_file['coords'][()]\n",
    "\n",
    "\n",
    "eigenmode = evecs[:, 1]\n",
    "normed = (eigenmode - eigenmode.min()) / (eigenmode.max() - eigenmode.min())\n",
    "jet_cmap = plt.get_cmap('jet')\n",
    "template_colors = (jet_cmap(normed)[:, :3] * 255).astype(np.uint8)\n",
    "\n",
    "\n",
    "template_tree = cKDTree(template_coords)\n",
    "\n",
    "plotter = pv.Plotter(shape=(10, 9), window_size=(1400, 1600))\n",
    "i = 0\n",
    "\n",
    "for root, dirs, files in os.walk(data_path):\n",
    "    for folder in dirs:\n",
    "        if folder == 'template-sub-001_species-Cercopithecus+cephus_hemi-L':\n",
    "            continue\n",
    "\n",
    "        stl_path = os.path.join(root, folder, 'reconstructed_aligned.stl')\n",
    "        tmesh = trimesh.load_mesh(stl_path, process=False)\n",
    "        verts = tmesh.vertices\n",
    "        faces = tmesh.faces\n",
    "        faces_pv = np.hstack([np.full((faces.shape[0], 1), 3), faces]).flatten()\n",
    "        mesh = pv.PolyData(verts, faces_pv)\n",
    "\n",
    "        # trimesh load_mesh, vertex order is not preserved\n",
    "        # Match each vertex in STL mesh to nearest template vertex\n",
    "        _, indices = template_tree.query(verts)\n",
    "        mapped_colors = template_colors[indices]\n",
    "\n",
    "        row = i // 9\n",
    "        col = i % 9\n",
    "        plotter.subplot(row, col)\n",
    "        mesh.point_data['colors'] = mapped_colors\n",
    "        plotter.add_mesh(mesh, scalars='colors', rgb=True)\n",
    "        i += 1\n",
    "        if i >= 90:\n",
    "            break\n",
    "\n",
    "        plotter.camera_position = [\n",
    "                            (-1, 0, 0), \n",
    "                            (0, 0, 0), \n",
    "                            (0, 0, 1)   \n",
    "        ]\n",
    "        plotter.reset_camera()\n",
    "\n",
    "\n",
    "plotter.show()\n"
   ]
  },
  {
   "cell_type": "markdown",
   "id": "45523416-c2b0-48e1-9510-02b0a4edc9dd",
   "metadata": {},
   "source": [
    "### **Eigenvector 3**"
   ]
  },
  {
   "cell_type": "code",
   "execution_count": 15,
   "id": "70814db2-d625-43cb-add9-5c965bc46d02",
   "metadata": {},
   "outputs": [
    {
     "data": {
      "application/vnd.jupyter.widget-view+json": {
       "model_id": "73edf5b224d94f5ea166eceb5cf2c639",
       "version_major": 2,
       "version_minor": 0
      },
      "text/plain": [
       "Widget(value='<iframe src=\"http://localhost:36041/index.html?ui=P_0x7f6f76893160_13&reconnect=auto\" class=\"pyv…"
      ]
     },
     "metadata": {},
     "output_type": "display_data"
    }
   ],
   "source": [
    "import h5py\n",
    "import numpy as np\n",
    "import pyvista as pv\n",
    "import matplotlib.pyplot as plt\n",
    "\n",
    "\n",
    "spec_file = h5py.File('../toothForge/data/generated_k100/template-sub-001_species-Cercopithecus+cephus_hemi-L/spectrum.h5')\n",
    "evecs = spec_file['evecs'][()]\n",
    "\n",
    "spat_file = h5py.File('../toothForge/data/generated_k100/template-sub-001_species-Cercopithecus+cephus_hemi-L/spatial.h5')\n",
    "coords = spat_file['coords'][()]\n",
    "faces = spat_file['faces'][()]\n",
    "\n",
    "plotter = pv.Plotter()\n",
    "\n",
    "#mesh = pv.read('../toothForge/data/generated_k100/template-sub-001_species-Cercopithecus+cephus_hemi-L/mesh.stl')\n",
    "mesh = trimesh.Trimesh(vertices=coords, faces=faces)\n",
    "\n",
    "jet_cmap = plt.get_cmap('jet')\n",
    "\n",
    "eigenmodes_m_sliced = evecs[:, 2]\n",
    "eigenmodes_m_n = (eigenmodes_m_sliced - np.min(eigenmodes_m_sliced)) / (np.max(eigenmodes_m_sliced) - np.min(eigenmodes_m_sliced))\n",
    "clrs_m = (jet_cmap(eigenmodes_m_n)[:, :3] * 255).astype(np.uint8)\n",
    " \n",
    "\n",
    "plotter.add_mesh(mesh, scalars=clrs_m, rgb=True, point_size=10)\n",
    "            \n",
    "\n",
    "plotter.camera_position = [\n",
    "    (-1, 0, 0),  # Camera position (from -X)\n",
    "    (0, 0, 0),   # Focal point (center of the scene)\n",
    "    (0, 0, 1)    # View up (Z axis up)\n",
    "]\n",
    "plotter.reset_camera()\n",
    "plotter.link_views()\n",
    "plotter.show()\n"
   ]
  },
  {
   "cell_type": "code",
   "execution_count": 16,
   "id": "c8d6c6b3-f446-4ef5-9542-d657749f8d1d",
   "metadata": {},
   "outputs": [
    {
     "data": {
      "application/vnd.jupyter.widget-view+json": {
       "model_id": "1e1ae3bcf8d94a94ab8dee3dd9569304",
       "version_major": 2,
       "version_minor": 0
      },
      "text/plain": [
       "Widget(value='<iframe src=\"http://localhost:36041/index.html?ui=P_0x7f6f6bd20d60_14&reconnect=auto\" class=\"pyv…"
      ]
     },
     "metadata": {},
     "output_type": "display_data"
    }
   ],
   "source": [
    "import os\n",
    "import numpy as np\n",
    "import h5py\n",
    "import pyvista as pv\n",
    "import trimesh\n",
    "from matplotlib import pyplot as plt\n",
    "from scipy.spatial import cKDTree\n",
    "\n",
    "data_path = '../toothForge/data/generated_k100'\n",
    "\n",
    "\n",
    "template_path = '../toothForge/data/generated_k100/template-sub-001_species-Cercopithecus+cephus_hemi-L'\n",
    "\n",
    "with h5py.File(os.path.join(template_path, 'spectrum.h5'), 'r') as spec_file:\n",
    "    evecs = spec_file['evecs'][()]\n",
    "with h5py.File(os.path.join(template_path, 'spatial.h5'), 'r') as coord_file:\n",
    "    template_coords = coord_file['coords'][()]\n",
    "\n",
    "\n",
    "eigenmode = evecs[:, 2]\n",
    "normed = (eigenmode - eigenmode.min()) / (eigenmode.max() - eigenmode.min())\n",
    "jet_cmap = plt.get_cmap('jet')\n",
    "template_colors = (jet_cmap(normed)[:, :3] * 255).astype(np.uint8)\n",
    "\n",
    "\n",
    "template_tree = cKDTree(template_coords)\n",
    "\n",
    "plotter = pv.Plotter(shape=(10, 9), window_size=(1400, 1600))\n",
    "i = 0\n",
    "\n",
    "for root, dirs, files in os.walk(data_path):\n",
    "    for folder in dirs:\n",
    "        if folder == 'template-sub-001_species-Cercopithecus+cephus_hemi-L':\n",
    "            continue\n",
    "\n",
    "        stl_path = os.path.join(root, folder, 'reconstructed_aligned.stl')\n",
    "        tmesh = trimesh.load_mesh(stl_path, process=False)\n",
    "        verts = tmesh.vertices\n",
    "        faces = tmesh.faces\n",
    "        faces_pv = np.hstack([np.full((faces.shape[0], 1), 3), faces]).flatten()\n",
    "        mesh = pv.PolyData(verts, faces_pv)\n",
    "\n",
    "        # trimesh load_mesh, vertex order is not preserved\n",
    "        # Match each vertex in STL mesh to nearest template vertex\n",
    "        _, indices = template_tree.query(verts)\n",
    "        mapped_colors = template_colors[indices]\n",
    "\n",
    "        row = i // 9\n",
    "        col = i % 9\n",
    "        plotter.subplot(row, col)\n",
    "        mesh.point_data['colors'] = mapped_colors\n",
    "        plotter.add_mesh(mesh, scalars='colors', rgb=True)\n",
    "        i += 1\n",
    "        if i >= 90:\n",
    "            break\n",
    "\n",
    "        plotter.camera_position = [\n",
    "                            (-1, 0, 0), \n",
    "                            (0, 0, 0), \n",
    "                            (0, 0, 1)   \n",
    "        ]\n",
    "        plotter.reset_camera()\n",
    "\n",
    "\n",
    "plotter.show()\n"
   ]
  },
  {
   "cell_type": "markdown",
   "id": "a0cf1040-7636-4411-8f70-e4bf31f59664",
   "metadata": {},
   "source": [
    "### **Eigenvector 4**"
   ]
  },
  {
   "cell_type": "code",
   "execution_count": 17,
   "id": "af910a47-962e-4a2a-995e-9afdedde023f",
   "metadata": {},
   "outputs": [
    {
     "data": {
      "application/vnd.jupyter.widget-view+json": {
       "model_id": "150dfedf446e4badae400480b5ba663f",
       "version_major": 2,
       "version_minor": 0
      },
      "text/plain": [
       "Widget(value='<iframe src=\"http://localhost:36041/index.html?ui=P_0x7f6f76628130_15&reconnect=auto\" class=\"pyv…"
      ]
     },
     "metadata": {},
     "output_type": "display_data"
    }
   ],
   "source": [
    "import h5py\n",
    "import numpy as np\n",
    "import pyvista as pv\n",
    "import matplotlib.pyplot as plt\n",
    "\n",
    "\n",
    "spec_file = h5py.File('../toothForge/data/generated_k100/template-sub-001_species-Cercopithecus+cephus_hemi-L/spectrum.h5')\n",
    "evecs = spec_file['evecs'][()]\n",
    "\n",
    "spat_file = h5py.File('../toothForge/data/generated_k100/template-sub-001_species-Cercopithecus+cephus_hemi-L/spatial.h5')\n",
    "coords = spat_file['coords'][()]\n",
    "faces = spat_file['faces'][()]\n",
    "\n",
    "plotter = pv.Plotter()\n",
    "\n",
    "#mesh = pv.read('../toothForge/data/generated_k100/template-sub-001_species-Cercopithecus+cephus_hemi-L/mesh.stl')\n",
    "mesh = trimesh.Trimesh(vertices=coords, faces=faces)\n",
    "\n",
    "jet_cmap = plt.get_cmap('jet')\n",
    "\n",
    "eigenmodes_m_sliced = evecs[:, 3]\n",
    "eigenmodes_m_n = (eigenmodes_m_sliced - np.min(eigenmodes_m_sliced)) / (np.max(eigenmodes_m_sliced) - np.min(eigenmodes_m_sliced))\n",
    "clrs_m = (jet_cmap(eigenmodes_m_n)[:, :3] * 255).astype(np.uint8)\n",
    " \n",
    "\n",
    "plotter.add_mesh(mesh, scalars=clrs_m, rgb=True, point_size=10)\n",
    "            \n",
    "\n",
    "plotter.camera_position = [\n",
    "    (-1, 0, 0),  # Camera position (from -X)\n",
    "    (0, 0, 0),   # Focal point (center of the scene)\n",
    "    (0, 0, 1)    # View up (Z axis up)\n",
    "]\n",
    "plotter.reset_camera()\n",
    "plotter.link_views()\n",
    "plotter.show()\n"
   ]
  },
  {
   "cell_type": "code",
   "execution_count": 18,
   "id": "cc32acb9-a9ac-4a23-abff-ce4dcd80a8d2",
   "metadata": {},
   "outputs": [
    {
     "data": {
      "application/vnd.jupyter.widget-view+json": {
       "model_id": "5e594eed4a234492a88dc5034a578ec2",
       "version_major": 2,
       "version_minor": 0
      },
      "text/plain": [
       "Widget(value='<iframe src=\"http://localhost:36041/index.html?ui=P_0x7f6f6bd20f10_16&reconnect=auto\" class=\"pyv…"
      ]
     },
     "metadata": {},
     "output_type": "display_data"
    }
   ],
   "source": [
    "import os\n",
    "import numpy as np\n",
    "import h5py\n",
    "import pyvista as pv\n",
    "import trimesh\n",
    "from matplotlib import pyplot as plt\n",
    "from scipy.spatial import cKDTree\n",
    "\n",
    "data_path = '../toothForge/data/generated_k100'\n",
    "\n",
    "\n",
    "template_path = '../toothForge/data/generated_k100/template-sub-001_species-Cercopithecus+cephus_hemi-L'\n",
    "\n",
    "with h5py.File(os.path.join(template_path, 'spectrum.h5'), 'r') as spec_file:\n",
    "    evecs = spec_file['evecs'][()]\n",
    "with h5py.File(os.path.join(template_path, 'spatial.h5'), 'r') as coord_file:\n",
    "    template_coords = coord_file['coords'][()]\n",
    "\n",
    "\n",
    "eigenmode = evecs[:, 3]\n",
    "normed = (eigenmode - eigenmode.min()) / (eigenmode.max() - eigenmode.min())\n",
    "jet_cmap = plt.get_cmap('jet')\n",
    "template_colors = (jet_cmap(normed)[:, :3] * 255).astype(np.uint8)\n",
    "\n",
    "\n",
    "template_tree = cKDTree(template_coords)\n",
    "\n",
    "plotter = pv.Plotter(shape=(10, 9), window_size=(1400, 1600))\n",
    "i = 0\n",
    "\n",
    "for root, dirs, files in os.walk(data_path):\n",
    "    for folder in dirs:\n",
    "        if folder == 'template-sub-001_species-Cercopithecus+cephus_hemi-L':\n",
    "            continue\n",
    "\n",
    "        stl_path = os.path.join(root, folder, 'reconstructed_aligned.stl')\n",
    "        tmesh = trimesh.load_mesh(stl_path, process=False)\n",
    "        verts = tmesh.vertices\n",
    "        faces = tmesh.faces\n",
    "        faces_pv = np.hstack([np.full((faces.shape[0], 1), 3), faces]).flatten()\n",
    "        mesh = pv.PolyData(verts, faces_pv)\n",
    "\n",
    "        # trimesh load_mesh, vertex order is not preserved\n",
    "        # Match each vertex in STL mesh to nearest template vertex\n",
    "        _, indices = template_tree.query(verts)\n",
    "        mapped_colors = template_colors[indices]\n",
    "\n",
    "        row = i // 9\n",
    "        col = i % 9\n",
    "        plotter.subplot(row, col)\n",
    "        mesh.point_data['colors'] = mapped_colors\n",
    "        plotter.add_mesh(mesh, scalars='colors', rgb=True)\n",
    "        i += 1\n",
    "        if i >= 90:\n",
    "            break\n",
    "\n",
    "        plotter.camera_position = [\n",
    "                            (-1, 0, 0), \n",
    "                            (0, 0, 0), \n",
    "                            (0, 0, 1)   \n",
    "        ]\n",
    "        plotter.reset_camera()\n",
    "\n",
    "\n",
    "plotter.show()\n"
   ]
  },
  {
   "cell_type": "markdown",
   "id": "2f1ee043-4bbb-41da-bedc-87560b78c09e",
   "metadata": {},
   "source": [
    "### **Eigenvector 5**"
   ]
  },
  {
   "cell_type": "code",
   "execution_count": 19,
   "id": "aed30bbc-9a35-428e-b2a8-2dec55da69ff",
   "metadata": {},
   "outputs": [
    {
     "data": {
      "application/vnd.jupyter.widget-view+json": {
       "model_id": "d66049e3e1ff4f01842e1105cc5f1446",
       "version_major": 2,
       "version_minor": 0
      },
      "text/plain": [
       "Widget(value='<iframe src=\"http://localhost:36041/index.html?ui=P_0x7f6f7663a970_17&reconnect=auto\" class=\"pyv…"
      ]
     },
     "metadata": {},
     "output_type": "display_data"
    }
   ],
   "source": [
    "import h5py\n",
    "import numpy as np\n",
    "import pyvista as pv\n",
    "import matplotlib.pyplot as plt\n",
    "\n",
    "spec_file = h5py.File('../toothForge/data/generated_k100/template-sub-001_species-Cercopithecus+cephus_hemi-L/spectrum.h5')\n",
    "evecs = spec_file['evecs'][()]\n",
    "\n",
    "spat_file = h5py.File('../toothForge/data/generated_k100/template-sub-001_species-Cercopithecus+cephus_hemi-L/spatial.h5')\n",
    "coords = spat_file['coords'][()]\n",
    "faces = spat_file['faces'][()]\n",
    "\n",
    "plotter = pv.Plotter()\n",
    "\n",
    "#mesh = pv.read('../toothForge/data/generated_k100/template-sub-001_species-Cercopithecus+cephus_hemi-L/mesh.stl')\n",
    "mesh = trimesh.Trimesh(vertices=coords, faces=faces)\n",
    "\n",
    "jet_cmap = plt.get_cmap('jet')\n",
    "\n",
    "eigenmodes_m_sliced = evecs[:, 4]\n",
    "eigenmodes_m_n = (eigenmodes_m_sliced - np.min(eigenmodes_m_sliced)) / (np.max(eigenmodes_m_sliced) - np.min(eigenmodes_m_sliced))\n",
    "clrs_m = (jet_cmap(eigenmodes_m_n)[:, :3] * 255).astype(np.uint8)\n",
    " \n",
    "\n",
    "plotter.add_mesh(mesh, scalars=clrs_m, rgb=True, point_size=10)\n",
    "            \n",
    "\n",
    "plotter.camera_position = [\n",
    "    (-1, 0, 0),  # Camera position (from -X)\n",
    "    (0, 0, 0),   # Focal point (center of the scene)\n",
    "    (0, 0, 1)    # View up (Z axis up)\n",
    "]\n",
    "plotter.reset_camera()\n",
    "plotter.link_views()\n",
    "plotter.show()\n"
   ]
  },
  {
   "cell_type": "code",
   "execution_count": 20,
   "id": "d9a1e2c3-69bc-40dd-9989-1369f6be13ef",
   "metadata": {},
   "outputs": [
    {
     "data": {
      "application/vnd.jupyter.widget-view+json": {
       "model_id": "6db911eda4da4e9fb9cb6f7ec774caca",
       "version_major": 2,
       "version_minor": 0
      },
      "text/plain": [
       "Widget(value='<iframe src=\"http://localhost:36041/index.html?ui=P_0x7f6f23b8a580_18&reconnect=auto\" class=\"pyv…"
      ]
     },
     "metadata": {},
     "output_type": "display_data"
    }
   ],
   "source": [
    "import os\n",
    "import numpy as np\n",
    "import h5py\n",
    "import pyvista as pv\n",
    "import trimesh\n",
    "from matplotlib import pyplot as plt\n",
    "from scipy.spatial import cKDTree\n",
    "\n",
    "data_path = '../toothForge/data/generated_k100'\n",
    "\n",
    "\n",
    "template_path = '../toothForge/data/generated_k100/template-sub-001_species-Cercopithecus+cephus_hemi-L'\n",
    "\n",
    "with h5py.File(os.path.join(template_path, 'spectrum.h5'), 'r') as spec_file:\n",
    "    evecs = spec_file['evecs'][()]\n",
    "with h5py.File(os.path.join(template_path, 'spatial.h5'), 'r') as coord_file:\n",
    "    template_coords = coord_file['coords'][()]\n",
    "\n",
    "\n",
    "eigenmode = evecs[:, 4]\n",
    "normed = (eigenmode - eigenmode.min()) / (eigenmode.max() - eigenmode.min())\n",
    "jet_cmap = plt.get_cmap('jet')\n",
    "template_colors = (jet_cmap(normed)[:, :3] * 255).astype(np.uint8)\n",
    "\n",
    "\n",
    "template_tree = cKDTree(template_coords)\n",
    "\n",
    "plotter = pv.Plotter(shape=(10, 9), window_size=(1400, 1600))\n",
    "i = 0\n",
    "\n",
    "for root, dirs, files in os.walk(data_path):\n",
    "    for folder in dirs:\n",
    "        if folder == 'template-sub-001_species-Cercopithecus+cephus_hemi-L':\n",
    "            continue\n",
    "\n",
    "        stl_path = os.path.join(root, folder, 'reconstructed_aligned.stl')\n",
    "        tmesh = trimesh.load_mesh(stl_path, process=False)\n",
    "        verts = tmesh.vertices\n",
    "        faces = tmesh.faces\n",
    "        faces_pv = np.hstack([np.full((faces.shape[0], 1), 3), faces]).flatten()\n",
    "        mesh = pv.PolyData(verts, faces_pv)\n",
    "\n",
    "        # trimesh load_mesh, vertex order is not preserved\n",
    "        # Match each vertex in STL mesh to nearest template vertex\n",
    "        _, indices = template_tree.query(verts)\n",
    "        mapped_colors = template_colors[indices]\n",
    "\n",
    "        row = i // 9\n",
    "        col = i % 9\n",
    "        plotter.subplot(row, col)\n",
    "        mesh.point_data['colors'] = mapped_colors\n",
    "        plotter.add_mesh(mesh, scalars='colors', rgb=True)\n",
    "        i += 1\n",
    "        if i >= 90:\n",
    "            break\n",
    "\n",
    "        plotter.camera_position = [\n",
    "                            (-1, 0, 0), \n",
    "                            (0, 0, 0), \n",
    "                            (0, 0, 1)   \n",
    "        ]\n",
    "        plotter.reset_camera()\n",
    "\n",
    "\n",
    "plotter.show()\n"
   ]
  },
  {
   "cell_type": "markdown",
   "id": "23285782-5e5b-487f-b161-7b44ad06503c",
   "metadata": {},
   "source": [
    "#### What if I reconstruct until k=4, will I have less weird brains?"
   ]
  },
  {
   "cell_type": "code",
   "execution_count": 21,
   "id": "d6ee8a8c-3cfe-4822-a17a-9665659b48ce",
   "metadata": {},
   "outputs": [
    {
     "data": {
      "application/vnd.jupyter.widget-view+json": {
       "model_id": "c3c3eb6964d245249755101656a0acdf",
       "version_major": 2,
       "version_minor": 0
      },
      "text/plain": [
       "Widget(value='<iframe src=\"http://localhost:36041/index.html?ui=P_0x7f6f6bbe14f0_19&reconnect=auto\" class=\"pyv…"
      ]
     },
     "metadata": {},
     "output_type": "display_data"
    }
   ],
   "source": [
    "import os\n",
    "import numpy as np\n",
    "import h5py\n",
    "import pyvista as pv\n",
    "import trimesh\n",
    "from matplotlib import pyplot as plt\n",
    "from scipy.spatial import cKDTree\n",
    "\n",
    "data_path = '../toothForge/data/generated_k4'\n",
    "\n",
    "\n",
    "template_path = '../toothForge/data/generated_k100/template-sub-001_species-Cercopithecus+cephus_hemi-L'\n",
    "\n",
    "with h5py.File(os.path.join(template_path, 'spectrum.h5'), 'r') as spec_file:\n",
    "    evecs = spec_file['evecs'][()]\n",
    "with h5py.File(os.path.join(template_path, 'spatial.h5'), 'r') as coord_file:\n",
    "    template_coords = coord_file['coords'][()]\n",
    "\n",
    "\n",
    "eigenmode = evecs[:, 3]\n",
    "normed = (eigenmode - eigenmode.min()) / (eigenmode.max() - eigenmode.min())\n",
    "jet_cmap = plt.get_cmap('jet')\n",
    "template_colors = (jet_cmap(normed)[:, :3] * 255).astype(np.uint8)\n",
    "\n",
    "\n",
    "template_tree = cKDTree(template_coords)\n",
    "\n",
    "plotter = pv.Plotter(shape=(10, 9), window_size=(1400, 1600))\n",
    "i = 0\n",
    "\n",
    "for root, dirs, files in os.walk(data_path):\n",
    "    for folder in dirs:\n",
    "        if folder == 'template-sub-001_species-Cercopithecus+cephus_hemi-L':\n",
    "            continue\n",
    "\n",
    "        stl_path = os.path.join(root, folder, 'reconstructed_aligned.stl')\n",
    "        tmesh = trimesh.load_mesh(stl_path, process=False)\n",
    "        verts = tmesh.vertices\n",
    "        faces = tmesh.faces\n",
    "        faces_pv = np.hstack([np.full((faces.shape[0], 1), 3), faces]).flatten()\n",
    "        mesh = pv.PolyData(verts, faces_pv)\n",
    "\n",
    "        # trimesh load_mesh, vertex order is not preserved\n",
    "        # Match each vertex in STL mesh to nearest template vertex\n",
    "        _, indices = template_tree.query(verts)\n",
    "        mapped_colors = template_colors[indices]\n",
    "\n",
    "        row = i // 9\n",
    "        col = i % 9\n",
    "        plotter.subplot(row, col)\n",
    "        mesh.point_data['colors'] = mapped_colors\n",
    "        plotter.add_mesh(mesh, scalars='colors', rgb=True)\n",
    "        i += 1\n",
    "        if i >= 90:\n",
    "            break\n",
    "\n",
    "        plotter.camera_position = [\n",
    "                            (-1, 0, 0), \n",
    "                            (0, 0, 0), \n",
    "                            (0, 0, 1)   \n",
    "        ]\n",
    "        plotter.reset_camera()\n",
    "\n",
    "\n",
    "plotter.show()\n"
   ]
  },
  {
   "cell_type": "markdown",
   "id": "ec3b1b40-0d08-4125-8a08-75b8919c9021",
   "metadata": {},
   "source": [
    "## Changing parameters"
   ]
  },
  {
   "cell_type": "markdown",
   "id": "6416152f-0e6e-4992-a427-b516dea8429e",
   "metadata": {},
   "source": [
    "**Experiment 1**\n",
    "\n",
    "e1:  \n",
    "    k = 100  \n",
    "    niter = 50, 50, 20, 10, 10  \n",
    "    kr = 3, 5, 8, 10, 100  \n"
   ]
  },
  {
   "cell_type": "code",
   "execution_count": 38,
   "id": "16789cf9-a2b2-40c3-9425-a9aad30fbb13",
   "metadata": {},
   "outputs": [
    {
     "data": {
      "application/vnd.jupyter.widget-view+json": {
       "model_id": "46cac6a979be46e2b703311658569c70",
       "version_major": 2,
       "version_minor": 0
      },
      "text/plain": [
       "Widget(value='<iframe src=\"http://localhost:36041/index.html?ui=P_0x7f6ecd909130_28&reconnect=auto\" class=\"pyv…"
      ]
     },
     "metadata": {},
     "output_type": "display_data"
    }
   ],
   "source": [
    "data_path = '../toothForge/data/generated_e1'\n",
    "\n",
    "plotter = pv.Plotter(shape=(10, 9), window_size=(1000, 1200))\n",
    "i = 0\n",
    "\n",
    "for root, dirs, files in os.walk(data_path):\n",
    "    for folder in dirs:\n",
    "        \n",
    "        if folder == 'template-sub-001_species-Cercopithecus+cephus_hemi-L':\n",
    "            continue\n",
    "            #mesh = pv.read(os.path.join(root, folder, 'mesh.stl'))\n",
    "            #unaligned_plotter.add_mesh(mesh, opacity=.95, color='red')\n",
    "        else:\n",
    "            mesh = pv.read(os.path.join(root, folder, 'reconstructed_aligned.stl'))\n",
    "        \n",
    "\n",
    "            row = i // 9\n",
    "            col = i % 9\n",
    "            plotter.subplot(row, col)\n",
    "            plotter.add_mesh(mesh, opacity=1, color='orchid')\n",
    "            i += 1\n",
    "\n",
    "            if i >= 90:\n",
    "                break \n",
    "\n",
    "            plotter.camera_position = [\n",
    "                            (-1, 0, 0),  \n",
    "                            (0, 0, 0),   \n",
    "                            (0, 0, 1)    \n",
    "            ]\n",
    "            plotter.reset_camera()\n",
    "\n",
    "plotter.show()"
   ]
  },
  {
   "cell_type": "markdown",
   "id": "6b96b51f-4b0b-4db9-b2b2-4cb44e402ebb",
   "metadata": {},
   "source": [
    "**Experiment 2**\n",
    "\n",
    "e2:  \n",
    "    k = 100  \n",
    "    niter = 5, 5, 10, 20, 20  \n",
    "    kr = 4, 6, 10, 20, 100  \n"
   ]
  },
  {
   "cell_type": "code",
   "execution_count": 23,
   "id": "70d5c454-3650-415c-9213-35aa8572ef19",
   "metadata": {},
   "outputs": [
    {
     "data": {
      "application/vnd.jupyter.widget-view+json": {
       "model_id": "d151efe5cbc34f7b8f3d482695683f43",
       "version_major": 2,
       "version_minor": 0
      },
      "text/plain": [
       "Widget(value='<iframe src=\"http://localhost:36041/index.html?ui=P_0x7f6f16a3e3a0_21&reconnect=auto\" class=\"pyv…"
      ]
     },
     "metadata": {},
     "output_type": "display_data"
    }
   ],
   "source": [
    "data_path = '../toothForge/data/generated_e2'\n",
    "\n",
    "plotter = pv.Plotter(shape=(10, 9), window_size=(1000, 1200))\n",
    "i = 0\n",
    "\n",
    "for root, dirs, files in os.walk(data_path):\n",
    "    for folder in dirs:\n",
    "        \n",
    "        if folder == 'template-sub-001_species-Cercopithecus+cephus_hemi-L':\n",
    "            continue\n",
    "            #mesh = pv.read(os.path.join(root, folder, 'mesh.stl'))\n",
    "            #unaligned_plotter.add_mesh(mesh, opacity=.95, color='red')\n",
    "        else:\n",
    "            mesh = pv.read(os.path.join(root, folder, 'reconstructed_aligned.stl'))\n",
    "        \n",
    "\n",
    "            row = i // 9\n",
    "            col = i % 9\n",
    "            plotter.subplot(row, col)\n",
    "            plotter.add_mesh(mesh, opacity=1, color='orchid')\n",
    "            i += 1\n",
    "\n",
    "            if i >= 90:\n",
    "                break \n",
    "\n",
    "            plotter.camera_position = [\n",
    "                            (-1, 0, 0),  \n",
    "                            (0, 0, 0),   \n",
    "                            (0, 0, 1)    \n",
    "            ]\n",
    "            plotter.reset_camera()\n",
    "\n",
    "plotter.show()"
   ]
  },
  {
   "cell_type": "markdown",
   "id": "a92cd965-4018-4640-b895-1a809f422e0e",
   "metadata": {},
   "source": [
    "**Experiment 3**  \n",
    "    k = 100  \n",
    "    niter = 50, 50, 20, 10, 10  \n",
    "    kr = 4, 10, 20, 30, 100  "
   ]
  },
  {
   "cell_type": "code",
   "execution_count": 25,
   "id": "8690a850-4888-4dae-9ea3-c5fc920ec424",
   "metadata": {},
   "outputs": [
    {
     "data": {
      "application/vnd.jupyter.widget-view+json": {
       "model_id": "aa78d9bf00664feba47f1158f92e1e30",
       "version_major": 2,
       "version_minor": 0
      },
      "text/plain": [
       "Widget(value='<iframe src=\"http://localhost:36041/index.html?ui=P_0x7f6f16a0cc70_22&reconnect=auto\" class=\"pyv…"
      ]
     },
     "metadata": {},
     "output_type": "display_data"
    }
   ],
   "source": [
    "data_path = '../toothForge/data/generated_e3'\n",
    "\n",
    "plotter = pv.Plotter(shape=(10, 9), window_size=(1000, 1200))\n",
    "i = 0\n",
    "\n",
    "for root, dirs, files in os.walk(data_path):\n",
    "    for folder in dirs:\n",
    "        \n",
    "        if folder == 'template-sub-001_species-Cercopithecus+cephus_hemi-L':\n",
    "            continue\n",
    "            #mesh = pv.read(os.path.join(root, folder, 'mesh.stl'))\n",
    "            #unaligned_plotter.add_mesh(mesh, opacity=.95, color='red')\n",
    "        else:\n",
    "            mesh = pv.read(os.path.join(root, folder, 'reconstructed_aligned.stl'))\n",
    "        \n",
    "\n",
    "            row = i // 9\n",
    "            col = i % 9\n",
    "            plotter.subplot(row, col)\n",
    "            plotter.add_mesh(mesh, opacity=1, color='orchid')\n",
    "            i += 1\n",
    "\n",
    "            if i >= 90:\n",
    "                break \n",
    "                \n",
    "            plotter.camera_position = [\n",
    "                            (-1, 0, 0),  \n",
    "                            (0, 0, 0),  \n",
    "                            (0, 0, 1)    \n",
    "            ]\n",
    "            plotter.reset_camera()\n",
    "\n",
    "plotter.show()"
   ]
  },
  {
   "cell_type": "markdown",
   "id": "273229d4-e214-4375-8e84-0b029cd4d1e7",
   "metadata": {},
   "source": [
    "**Experiment 4**  \n",
    "    k = 100  \n",
    "    niter = 150, 150, 120, 50, 50  \n",
    "    kr = 4, 6, 8, 20, 100  "
   ]
  },
  {
   "cell_type": "code",
   "execution_count": null,
   "id": "a2d2be13-a110-4db4-b1b6-1b2413b17d5e",
   "metadata": {},
   "outputs": [],
   "source": [
    "data_path = '../toothForge/data/generated_e4'\n",
    "\n",
    "plotter = pv.Plotter(shape=(10, 9), window_size=(1000, 1200))\n",
    "i = 0\n",
    "\n",
    "for root, dirs, files in os.walk(data_path):\n",
    "    for folder in dirs:\n",
    "        \n",
    "        if folder == 'template-sub-001_species-Cercopithecus+cephus_hemi-L':\n",
    "            continue\n",
    "            #mesh = pv.read(os.path.join(root, folder, 'mesh.stl'))\n",
    "            #unaligned_plotter.add_mesh(mesh, opacity=.95, color='red')\n",
    "        else:\n",
    "            mesh = pv.read(os.path.join(root, folder, 'reconstructed_aligned.stl'))\n",
    "        \n",
    "\n",
    "            row = i // 9\n",
    "            col = i % 9\n",
    "            plotter.subplot(row, col)\n",
    "            plotter.add_mesh(mesh, opacity=1, color='orchid')\n",
    "            i += 1\n",
    "\n",
    "            if i >= 90:\n",
    "                break \n",
    "                \n",
    "            plotter.camera_position = [\n",
    "                            (-1, 0, 0),  \n",
    "                            (0, 0, 0),  \n",
    "                            (0, 0, 1)    \n",
    "            ]\n",
    "            plotter.reset_camera()\n",
    "\n",
    "plotter.show()"
   ]
  },
  {
   "cell_type": "markdown",
   "id": "13a72e09-cbe8-4383-b606-a65a24bfbd25",
   "metadata": {},
   "source": [
    "**Experiment 5**  \n",
    "    k = 100  \n",
    "    niter = 50, 50, 20, 10, 10  \n",
    "    kr = 4, 4, 5, 5, 100  "
   ]
  },
  {
   "cell_type": "code",
   "execution_count": 27,
   "id": "cf7c4e6e-94dc-4f5e-8a13-fc046d4c503b",
   "metadata": {},
   "outputs": [
    {
     "data": {
      "application/vnd.jupyter.widget-view+json": {
       "model_id": "ef3470a2ef6a466c9b0d5703add07b21",
       "version_major": 2,
       "version_minor": 0
      },
      "text/plain": [
       "Widget(value='<iframe src=\"http://localhost:36041/index.html?ui=P_0x7f6efc2ef460_24&reconnect=auto\" class=\"pyv…"
      ]
     },
     "metadata": {},
     "output_type": "display_data"
    }
   ],
   "source": [
    "data_path = '../toothForge/data/generated_e5'\n",
    "\n",
    "plotter = pv.Plotter(shape=(10, 9), window_size=(1000, 1200))\n",
    "i = 0\n",
    "\n",
    "for root, dirs, files in os.walk(data_path):\n",
    "    for folder in dirs:\n",
    "        \n",
    "        if folder == 'template-sub-001_species-Cercopithecus+cephus_hemi-L':\n",
    "            continue\n",
    "            #mesh = pv.read(os.path.join(root, folder, 'mesh.stl'))\n",
    "            #unaligned_plotter.add_mesh(mesh, opacity=.95, color='red')\n",
    "        else:\n",
    "            mesh = pv.read(os.path.join(root, folder, 'reconstructed_aligned.stl'))\n",
    "        \n",
    "\n",
    "            row = i // 9\n",
    "            col = i % 9\n",
    "            plotter.subplot(row, col)\n",
    "            plotter.add_mesh(mesh, opacity=1, color='orchid')\n",
    "            i += 1\n",
    "\n",
    "            if i >= 90:\n",
    "                break \n",
    "                \n",
    "            plotter.camera_position = [\n",
    "                            (-1, 0, 0),  \n",
    "                            (0, 0, 0),  \n",
    "                            (0, 0, 1)    \n",
    "            ]\n",
    "            plotter.reset_camera()\n",
    "\n",
    "plotter.show()"
   ]
  },
  {
   "cell_type": "code",
   "execution_count": 10,
   "id": "fe863fc1-d18d-4d51-be7b-02ed0ae95ab5",
   "metadata": {},
   "outputs": [
    {
     "name": "stdout",
     "output_type": "stream",
     "text": [
      "folder: template-sub-001_species-Cercopithecus+cephus_hemi-L.surf.gii\n"
     ]
    },
    {
     "ename": "FileNotFoundError",
     "evalue": "File (/home/usagers/u139043/Documents/Imaging/toothForge/data/generated_e8/template-sub-001_species-Cercopithecus+cephus_hemi-L.surf.gii/reconstructed_aligned.stl) not found",
     "output_type": "error",
     "traceback": [
      "\u001b[0;31m---------------------------------------------------------------------------\u001b[0m",
      "\u001b[0;31mFileNotFoundError\u001b[0m                         Traceback (most recent call last)",
      "Cell \u001b[0;32mIn[10], line 16\u001b[0m\n\u001b[1;32m     12\u001b[0m     \u001b[38;5;28;01mcontinue\u001b[39;00m\n\u001b[1;32m     13\u001b[0m     \u001b[38;5;66;03m#mesh = pv.read(os.path.join(root, folder, 'mesh.stl'))\u001b[39;00m\n\u001b[1;32m     14\u001b[0m     \u001b[38;5;66;03m#unaligned_plotter.add_mesh(mesh, opacity=.95, color='red')\u001b[39;00m\n\u001b[1;32m     15\u001b[0m \u001b[38;5;28;01melse\u001b[39;00m:\n\u001b[0;32m---> 16\u001b[0m     mesh \u001b[38;5;241m=\u001b[39m \u001b[43mpv\u001b[49m\u001b[38;5;241;43m.\u001b[39;49m\u001b[43mread\u001b[49m\u001b[43m(\u001b[49m\u001b[43mos\u001b[49m\u001b[38;5;241;43m.\u001b[39;49m\u001b[43mpath\u001b[49m\u001b[38;5;241;43m.\u001b[39;49m\u001b[43mjoin\u001b[49m\u001b[43m(\u001b[49m\u001b[43mroot\u001b[49m\u001b[43m,\u001b[49m\u001b[43m \u001b[49m\u001b[43mfolder\u001b[49m\u001b[43m,\u001b[49m\u001b[43m \u001b[49m\u001b[38;5;124;43m'\u001b[39;49m\u001b[38;5;124;43mreconstructed_aligned.stl\u001b[39;49m\u001b[38;5;124;43m'\u001b[39;49m\u001b[43m)\u001b[49m\u001b[43m)\u001b[49m\n\u001b[1;32m     19\u001b[0m     row \u001b[38;5;241m=\u001b[39m i \u001b[38;5;241m/\u001b[39m\u001b[38;5;241m/\u001b[39m \u001b[38;5;241m9\u001b[39m\n\u001b[1;32m     20\u001b[0m     col \u001b[38;5;241m=\u001b[39m i \u001b[38;5;241m%\u001b[39m \u001b[38;5;241m9\u001b[39m\n",
      "File \u001b[0;32m/home/usagers/u139043/Documents/Imaging/.env/lib64/python3.9/site-packages/pyvista/core/utilities/fileio.py:257\u001b[0m, in \u001b[0;36mread\u001b[0;34m(filename, force_ext, file_format, progress_bar)\u001b[0m\n\u001b[1;32m    255\u001b[0m \u001b[38;5;28;01mif\u001b[39;00m \u001b[38;5;129;01mnot\u001b[39;00m filename\u001b[38;5;241m.\u001b[39mis_file() \u001b[38;5;129;01mand\u001b[39;00m \u001b[38;5;129;01mnot\u001b[39;00m filename\u001b[38;5;241m.\u001b[39mis_dir():\n\u001b[1;32m    256\u001b[0m     msg \u001b[38;5;241m=\u001b[39m \u001b[38;5;124mf\u001b[39m\u001b[38;5;124m'\u001b[39m\u001b[38;5;124mFile (\u001b[39m\u001b[38;5;132;01m{\u001b[39;00mfilename\u001b[38;5;132;01m}\u001b[39;00m\u001b[38;5;124m) not found\u001b[39m\u001b[38;5;124m'\u001b[39m\n\u001b[0;32m--> 257\u001b[0m     \u001b[38;5;28;01mraise\u001b[39;00m \u001b[38;5;167;01mFileNotFoundError\u001b[39;00m(msg)\n\u001b[1;32m    259\u001b[0m \u001b[38;5;66;03m# Read file using meshio.read if file_format is present\u001b[39;00m\n\u001b[1;32m    260\u001b[0m \u001b[38;5;28;01mif\u001b[39;00m file_format:\n",
      "\u001b[0;31mFileNotFoundError\u001b[0m: File (/home/usagers/u139043/Documents/Imaging/toothForge/data/generated_e8/template-sub-001_species-Cercopithecus+cephus_hemi-L.surf.gii/reconstructed_aligned.stl) not found"
     ]
    }
   ],
   "source": [
    "# Experiment 8\n",
    "\n",
    "data_path = '../toothForge/data/generated_e8'\n",
    "\n",
    "plotter = pv.Plotter(shape=(10, 9), window_size=(1000, 1200))\n",
    "i = 0\n",
    "\n",
    "for root, dirs, files in os.walk(data_path):\n",
    "    for folder in sorted(dirs):\n",
    "        print(f\"folder: {folder}\")\n",
    "        if folder == 'template-sub-001_species-Cercopithecus+cephus_hemi-L':\n",
    "            continue\n",
    "            #mesh = pv.read(os.path.join(root, folder, 'mesh.stl'))\n",
    "            #unaligned_plotter.add_mesh(mesh, opacity=.95, color='red')\n",
    "        else:\n",
    "            mesh = pv.read(os.path.join(root, folder, 'reconstructed_aligned.stl'))\n",
    "        \n",
    "\n",
    "            row = i // 9\n",
    "            col = i % 9\n",
    "            plotter.subplot(row, col)\n",
    "            plotter.add_mesh(mesh, opacity=1, color='orchid')\n",
    "            i += 1\n",
    "\n",
    "            if i >= 90:\n",
    "                break \n",
    "\n",
    "            plotter.camera_position = [\n",
    "                            (-1, 0, 0),  \n",
    "                            (0, 0, 0),   \n",
    "                            (0, 0, 1)    \n",
    "            ]\n",
    "            plotter.reset_camera()\n",
    "\n",
    "plotter.show()"
   ]
  },
  {
   "cell_type": "code",
   "execution_count": 8,
   "id": "057ccb1d-2794-43b0-8995-2bd558aa7d30",
   "metadata": {},
   "outputs": [
    {
     "data": {
      "application/vnd.jupyter.widget-view+json": {
       "model_id": "9e8ddb91eeb745b2bc627694696116f7",
       "version_major": 2,
       "version_minor": 0
      },
      "text/plain": [
       "Widget(value='<iframe src=\"http://localhost:38329/index.html?ui=P_0x7f6a0cf66be0_5&reconnect=auto\" class=\"pyvi…"
      ]
     },
     "metadata": {},
     "output_type": "display_data"
    }
   ],
   "source": [
    "data_path = '../toothForge/data/generated_e11'\n",
    "\n",
    "plotter = pv.Plotter(shape=(2, 6))\n",
    "i = 0\n",
    "\n",
    "for root, dirs, files in sorted(os.walk(data_path)):\n",
    "    for folder in sorted(dirs):\n",
    "        \n",
    "        if folder == 'template-sub-001_species-Cercopithecus+cephus_hemi-L':\n",
    "            continue\n",
    "            #mesh = pv.read(os.path.join(root, folder, 'mesh.stl'))\n",
    "            #unaligned_plotter.add_mesh(mesh, opacity=.95, color='red')\n",
    "        else:\n",
    "            mesh = pv.read(os.path.join(root, folder, 'reconstructed_aligned.stl'))\n",
    "        \n",
    "\n",
    "            row = i // 6\n",
    "            col = i % 6\n",
    "            plotter.subplot(row, col)\n",
    "            plotter.add_mesh(mesh, opacity=1, color='orchid')\n",
    "            i += 1\n",
    "\n",
    "            if i >= 90:\n",
    "                break \n",
    "                \n",
    "            plotter.camera_position = [\n",
    "                            (-1, 0, 0),  \n",
    "                            (0, 0, 0),  \n",
    "                            (0, 0, 1)    \n",
    "            ]\n",
    "            plotter.reset_camera()\n",
    "\n",
    "plotter.show()"
   ]
  },
  {
   "cell_type": "markdown",
   "id": "d33c476c-3122-4795-9a82-5f2f2ace5a9d",
   "metadata": {},
   "source": [
    "## Aligned coefficients"
   ]
  },
  {
   "cell_type": "code",
   "execution_count": 28,
   "id": "c468d43b-7f67-446d-bed1-77491213ce74",
   "metadata": {},
   "outputs": [
    {
     "data": {
      "text/plain": [
       "91"
      ]
     },
     "execution_count": 28,
     "metadata": {},
     "output_type": "execute_result"
    }
   ],
   "source": [
    "import h5py\n",
    "data_path = '../toothForge/data/generated_k100'\n",
    "\n",
    "coefficients = []\n",
    "\n",
    "for root, dirs, files in os.walk(data_path):\n",
    "    for folder in dirs:\n",
    "        c_file = h5py.File(os.path.join(root, folder, 'spec_coeff.h5'))\n",
    "        c = c_file['c'][()]\n",
    "        \n",
    "        if folder != 'template-sub-001_species-Cercopithecus+cephus_hemi-L':\n",
    "            r_file = h5py.File(os.path.join(root, folder, 'spec_rotation.h5'))\n",
    "            r = r_file['R'][()]\n",
    "            c = r @ c\n",
    "            \n",
    "        coefficients.append(c)\n",
    "\n",
    "len(coefficients)"
   ]
  },
  {
   "cell_type": "markdown",
   "id": "a1f521a6-3804-45a5-89bd-a2a6631368ef",
   "metadata": {},
   "source": [
    "## Principal Component Analysis PCA"
   ]
  },
  {
   "cell_type": "code",
   "execution_count": 29,
   "id": "8a11d3b7-c927-4743-993a-14b458cc42f5",
   "metadata": {},
   "outputs": [],
   "source": [
    "#!pip install scikit-learn"
   ]
  },
  {
   "cell_type": "code",
   "execution_count": 30,
   "id": "ce2e390e-4a42-48b2-97ab-484746c93c2b",
   "metadata": {},
   "outputs": [
    {
     "data": {
      "text/plain": [
       "array([[-14.00839311, -12.39871473],\n",
       "       [-22.12761788,  15.8582502 ],\n",
       "       [-17.52159437,  -2.68979353],\n",
       "       [-11.9688427 ,  12.4398894 ],\n",
       "       [-16.39437599,  -1.63505021],\n",
       "       [ -3.39066738,  -4.5812571 ],\n",
       "       [-18.63283447,   3.85290536],\n",
       "       [-13.75625172,   2.78532229],\n",
       "       [-19.99854233,  -3.91279998],\n",
       "       [ -2.91532549,  18.33261011],\n",
       "       [-17.96075983, -12.34973697],\n",
       "       [-17.19071034,  -9.18202955],\n",
       "       [-17.08700771, -11.15079179],\n",
       "       [-17.75964139, -12.25893206],\n",
       "       [ 80.5333178 ,   0.36168778],\n",
       "       [-17.17152843,  -9.81278049],\n",
       "       [ 96.92309553,  -7.78027444],\n",
       "       [-16.65069124,  -7.44941692],\n",
       "       [-14.49404588, -13.88562164],\n",
       "       [-15.48692382,  -9.83094509],\n",
       "       [-18.32854495,  -6.00749366],\n",
       "       [-17.72462487, -11.93627271],\n",
       "       [-21.58812015,  -0.77805669],\n",
       "       [-14.9899192 ,  -9.65565766],\n",
       "       [ 82.86839916, -19.71179196],\n",
       "       [-18.64974565,  -2.95524127],\n",
       "       [-14.89389023,  -9.69878496],\n",
       "       [-17.11133989,  -8.83394888],\n",
       "       [-17.31682332,  -2.41712766],\n",
       "       [-18.10026   ,  -3.53717979],\n",
       "       [-16.45762052, -10.70822877],\n",
       "       [-18.0431945 ,  -3.31433707],\n",
       "       [ -8.66147353,   8.45872595],\n",
       "       [-15.78113525,   4.67787026],\n",
       "       [ -3.14338887,   2.05256071],\n",
       "       [ 60.9166311 , -35.71080538],\n",
       "       [-21.59658596,  15.96867212],\n",
       "       [-14.0041547 ,  19.40338766],\n",
       "       [ -3.33149508,   6.74828903],\n",
       "       [-14.06051991,   2.32645423],\n",
       "       [ 44.77497235,  50.58600185],\n",
       "       [-22.15371562,  27.84674389],\n",
       "       [-14.48843774,  22.80652764],\n",
       "       [ 10.03210856,  19.90210281],\n",
       "       [  1.52378371,  -2.09964724],\n",
       "       [-15.73133176,   3.54425405],\n",
       "       [-19.01966753,   3.34140971],\n",
       "       [ 28.29497062,  40.99555091],\n",
       "       [-11.06397372,  10.23912728],\n",
       "       [ 91.69391989,  -7.15254235],\n",
       "       [-24.04139182,  13.91374107],\n",
       "       [-13.5017844 ,   8.4766437 ],\n",
       "       [ 53.34305466,   1.18609298],\n",
       "       [ 20.91192215,  17.18531782],\n",
       "       [ 36.37243244,  52.8674274 ],\n",
       "       [ 11.81564713,   7.37609519],\n",
       "       [ 54.82644434,  20.32732116],\n",
       "       [ 42.42596633,  16.34838677],\n",
       "       [-19.82172154,  14.85479542],\n",
       "       [ -7.47121489,  -0.69390809],\n",
       "       [-16.43330618,   4.9579654 ],\n",
       "       [ 38.21457839,  29.21732474],\n",
       "       [-22.22620481,  13.88605099],\n",
       "       [-14.67846558,  20.93699641],\n",
       "       [-22.02706136,   6.40171148],\n",
       "       [-28.29826025,   5.35431426],\n",
       "       [-14.99568852, -11.96229871],\n",
       "       [-15.51958422,  -1.28981199],\n",
       "       [-18.28436993, -12.73262229],\n",
       "       [-14.99282971, -16.79291223],\n",
       "       [-17.97661681, -15.03445996],\n",
       "       [ -1.0831507 , -15.7230916 ],\n",
       "       [ 53.1908156 , -23.71445866],\n",
       "       [ 71.68043208, -35.9283333 ],\n",
       "       [-24.28305726,   2.44888115],\n",
       "       [ 96.80127035,   4.40307423],\n",
       "       [ 12.52492001,   2.36218243],\n",
       "       [-14.78589459,  -9.72540081],\n",
       "       [-17.1799935 , -13.04546959],\n",
       "       [-11.71707327, -24.71794692],\n",
       "       [ 26.91026603, -16.99699447],\n",
       "       [-17.11889039, -17.42234968],\n",
       "       [  7.50889481,  -2.0287741 ],\n",
       "       [-17.80455137,  -9.36151724],\n",
       "       [-17.5908369 ,  14.15145827],\n",
       "       [ -7.95370172, -13.61414486],\n",
       "       [ 38.85116501, -19.49788578],\n",
       "       [-15.87668207, -15.52517997],\n",
       "       [-20.97529295,   3.31657555],\n",
       "       [ -1.0582393 , -10.41723887],\n",
       "       [-14.48742696, -12.84063999]])"
      ]
     },
     "execution_count": 30,
     "metadata": {},
     "output_type": "execute_result"
    }
   ],
   "source": [
    "import numpy as np\n",
    "from sklearn.decomposition import PCA\n",
    "\n",
    "# Flatten coefficient matrices\n",
    "flattened_c = [mat.flatten() for mat in coefficients] # k x n\n",
    "\n",
    "X = np.array(flattened_c)\n",
    "\n",
    "pca = PCA(n_components=2)\n",
    "X_flattened = pca.fit_transform(X)\n",
    "\n",
    "X_flattened"
   ]
  },
  {
   "cell_type": "code",
   "execution_count": null,
   "id": "1baa9a68-f3c8-485f-bedc-587a3db30229",
   "metadata": {},
   "outputs": [],
   "source": []
  },
  {
   "cell_type": "code",
   "execution_count": 31,
   "id": "ff07e7f0-5940-4010-88d7-32e3d467cf26",
   "metadata": {},
   "outputs": [
    {
     "data": {
      "image/png": "[encoded data removed]",
      "text/plain": [
       "<Figure size 640x480 with 1 Axes>"
      ]
     },
     "metadata": {},
     "output_type": "display_data"
    }
   ],
   "source": [
    "from matplotlib import pyplot as plt\n",
    "\n",
    "#%matplotlib widget\n",
    "\n",
    "x = X_flattened[:, 0]\n",
    "y = X_flattened[:, 1]\n",
    "#z = X_flattened[:, 2]\n",
    "\n",
    "fig = plt.figure()\n",
    "#ax = Axes3D(fig)\n",
    "\n",
    "\n",
    "\n",
    "#ax = fig.add_subplot(111, projection=\"3d\")\n",
    "plt.plot(x, y, color=\"red\", marker='o', linestyle='')\n",
    "\n",
    "plt.title(\"2D coefficients\")\n",
    "plt.xlabel(\"x\")\n",
    "plt.ylabel(\"y\")\n",
    "#ax.set_zlabel(\"z\")\n",
    "\n",
    "plt.show()"
   ]
  },
  {
   "cell_type": "code",
   "execution_count": 32,
   "id": "ad82461a-49a5-462b-81ee-665ef08fe95b",
   "metadata": {},
   "outputs": [],
   "source": [
    "import numpy as np\n",
    "from sklearn.decomposition import PCA\n",
    "\n",
    "# Flatten coefficient matrices\n",
    "flattened_c = [mat.flatten() for mat in coefficients] # k x n\n",
    "\n",
    "X = np.array(flattened_c)\n",
    "\n",
    "pca = PCA(n_components=3)\n",
    "X_flattened = pca.fit_transform(X)"
   ]
  },
  {
   "cell_type": "code",
   "execution_count": 33,
   "id": "e00b2d32-cb97-4939-bef2-546d3045402c",
   "metadata": {},
   "outputs": [
    {
     "data": {
      "text/plain": [
       "array([[-1.40083931e+01, -1.23987147e+01, -5.58425785e-02],\n",
       "       [-2.21276179e+01,  1.58582502e+01,  1.17717335e+01],\n",
       "       [-1.75215944e+01, -2.68979353e+00,  6.45764603e+00],\n",
       "       [-1.19688427e+01,  1.24398894e+01, -1.62753385e+01],\n",
       "       [-1.63943760e+01, -1.63505021e+00,  7.11510399e+00],\n",
       "       [-3.39066738e+00, -4.58125710e+00,  6.23785271e-01],\n",
       "       [-1.86328345e+01,  3.85290536e+00,  1.23986320e+01],\n",
       "       [-1.37562517e+01,  2.78532229e+00, -1.50414017e+01],\n",
       "       [-1.99985423e+01, -3.91279998e+00, -8.54983549e+00],\n",
       "       [-2.91532549e+00,  1.83326101e+01, -1.27236928e+01],\n",
       "       [-1.79607598e+01, -1.23497370e+01,  3.84513984e-02],\n",
       "       [-1.71907103e+01, -9.18202955e+00,  4.45912679e+00],\n",
       "       [-1.70870077e+01, -1.11507918e+01,  5.77785941e+00],\n",
       "       [-1.77596414e+01, -1.22589321e+01,  9.25528669e+00],\n",
       "       [ 8.05333178e+01,  3.61687782e-01, -1.61385100e+01],\n",
       "       [-1.71715284e+01, -9.81278049e+00, -1.59697301e+00],\n",
       "       [ 9.69230955e+01, -7.78027444e+00, -7.27123912e-01],\n",
       "       [-1.66506912e+01, -7.44941692e+00,  6.53582794e+00],\n",
       "       [-1.44940459e+01, -1.38856216e+01, -1.00501395e+01],\n",
       "       [-1.54869238e+01, -9.83094509e+00, -1.23517021e+00],\n",
       "       [-1.83285449e+01, -6.00749366e+00,  1.18891851e+01],\n",
       "       [-1.77246249e+01, -1.19362727e+01,  5.46766510e+00],\n",
       "       [-2.15881201e+01, -7.78056690e-01,  1.06514915e+01],\n",
       "       [-1.49899192e+01, -9.65565766e+00, -4.38912345e+00],\n",
       "       [ 8.28683992e+01, -1.97117920e+01,  1.64763355e+01],\n",
       "       [-1.86497457e+01, -2.95524127e+00,  4.38749563e-01],\n",
       "       [-1.48938902e+01, -9.69878496e+00,  6.95843258e+00],\n",
       "       [-1.71113399e+01, -8.83394888e+00,  4.44763723e+00],\n",
       "       [-1.73168233e+01, -2.41712766e+00, -9.99866117e+00],\n",
       "       [-1.81002600e+01, -3.53717979e+00, -1.41867256e+01],\n",
       "       [-1.64576205e+01, -1.07082288e+01, -9.25752961e+00],\n",
       "       [-1.80431945e+01, -3.31433707e+00,  9.55038818e+00],\n",
       "       [-8.66147353e+00,  8.45872595e+00,  1.90157086e+01],\n",
       "       [-1.57811352e+01,  4.67787026e+00, -5.74897598e+00],\n",
       "       [-3.14338887e+00,  2.05256071e+00,  2.16187517e+01],\n",
       "       [ 6.09166311e+01, -3.57108054e+01, -8.59715368e+00],\n",
       "       [-2.15965860e+01,  1.59686721e+01, -2.84802827e+01],\n",
       "       [-1.40041547e+01,  1.94033877e+01, -2.05967577e-01],\n",
       "       [-3.33149508e+00,  6.74828903e+00,  1.12672881e+01],\n",
       "       [-1.40605199e+01,  2.32645423e+00, -1.92100496e+01],\n",
       "       [ 4.47749723e+01,  5.05860019e+01,  1.52958519e+01],\n",
       "       [-2.21537156e+01,  2.78467439e+01, -1.03388860e+01],\n",
       "       [-1.44884377e+01,  2.28065276e+01, -4.42720348e+00],\n",
       "       [ 1.00321086e+01,  1.99021028e+01, -1.66637520e+01],\n",
       "       [ 1.52378371e+00, -2.09964724e+00, -5.42597247e+00],\n",
       "       [-1.57313318e+01,  3.54425405e+00,  1.27669825e+01],\n",
       "       [-1.90196675e+01,  3.34140971e+00, -1.03427472e+01],\n",
       "       [ 2.82949706e+01,  4.09955509e+01,  1.42180856e+01],\n",
       "       [-1.10639737e+01,  1.02391273e+01, -1.55898470e+01],\n",
       "       [ 9.16939199e+01, -7.15254235e+00, -1.21160659e+01],\n",
       "       [-2.40413918e+01,  1.39137411e+01, -8.92020789e+00],\n",
       "       [-1.35017844e+01,  8.47664370e+00, -8.68791467e+00],\n",
       "       [ 5.33430547e+01,  1.18609298e+00,  2.31486369e+01],\n",
       "       [ 2.09119222e+01,  1.71853178e+01, -2.64406877e+01],\n",
       "       [ 3.63724324e+01,  5.28674274e+01,  9.00462690e+00],\n",
       "       [ 1.18156471e+01,  7.37609519e+00,  9.18427655e+00],\n",
       "       [ 5.48264443e+01,  2.03273212e+01, -8.73965650e+00],\n",
       "       [ 4.24259663e+01,  1.63483868e+01,  1.89476847e+01],\n",
       "       [-1.98217215e+01,  1.48547954e+01,  1.00546910e+01],\n",
       "       [-7.47121489e+00, -6.93908086e-01,  2.16091805e+01],\n",
       "       [-1.64333062e+01,  4.95796540e+00, -1.11865249e+01],\n",
       "       [ 3.82145784e+01,  2.92173247e+01,  2.52964397e+01],\n",
       "       [-2.22262048e+01,  1.38860510e+01, -3.12558157e-01],\n",
       "       [-1.46784656e+01,  2.09369964e+01, -8.35627724e+00],\n",
       "       [-2.20270614e+01,  6.40171148e+00,  8.72387674e-01],\n",
       "       [-2.82982602e+01,  5.35431426e+00, -7.66940955e-01],\n",
       "       [-1.49956885e+01, -1.19622987e+01,  1.58988522e+01],\n",
       "       [-1.55195842e+01, -1.28981199e+00, -4.19200094e+00],\n",
       "       [-1.82843699e+01, -1.27326223e+01, -4.44414608e+00],\n",
       "       [-1.49928297e+01, -1.67929122e+01,  3.22169562e+00],\n",
       "       [-1.79766168e+01, -1.50344600e+01,  9.48081358e+00],\n",
       "       [-1.08315070e+00, -1.57230916e+01,  2.72286540e+01],\n",
       "       [ 5.31908156e+01, -2.37144587e+01, -2.95115945e+01],\n",
       "       [ 7.16804321e+01, -3.59283333e+01,  1.46026393e+00],\n",
       "       [-2.42830573e+01,  2.44888115e+00,  5.15954721e+00],\n",
       "       [ 9.68012704e+01,  4.40307423e+00, -4.22034162e+00],\n",
       "       [ 1.25249200e+01,  2.36218243e+00, -2.79722134e+01],\n",
       "       [-1.47858946e+01, -9.72540081e+00,  1.04624967e+00],\n",
       "       [-1.71799935e+01, -1.30454696e+01,  2.32510013e+00],\n",
       "       [-1.17170733e+01, -2.47179469e+01,  5.27535299e-01],\n",
       "       [ 2.69102660e+01, -1.69969945e+01, -9.20862498e-01],\n",
       "       [-1.71188904e+01, -1.74223497e+01,  5.40718407e+00],\n",
       "       [ 7.50889481e+00, -2.02877410e+00, -3.60575067e+01],\n",
       "       [-1.78045514e+01, -9.36151724e+00, -5.02800372e-02],\n",
       "       [-1.75908369e+01,  1.41514583e+01,  6.43425276e+00],\n",
       "       [-7.95370172e+00, -1.36141449e+01,  1.98357398e+01],\n",
       "       [ 3.88511650e+01, -1.94978858e+01,  1.41816934e+01],\n",
       "       [-1.58766821e+01, -1.55251800e+01, -5.96203006e+00],\n",
       "       [-2.09752930e+01,  3.31657555e+00, -8.95316929e+00],\n",
       "       [-1.05823930e+00, -1.04172389e+01,  2.87856943e+00],\n",
       "       [-1.44874270e+01, -1.28406400e+01, -4.63219702e+00]])"
      ]
     },
     "execution_count": 33,
     "metadata": {},
     "output_type": "execute_result"
    }
   ],
   "source": [
    "X_flattened"
   ]
  },
  {
   "cell_type": "code",
   "execution_count": 34,
   "id": "b6ddef8c-bbd7-44b8-b942-9bb6f59a2537",
   "metadata": {},
   "outputs": [
    {
     "data": {
      "application/vnd.jupyter.widget-view+json": {
       "model_id": "aff711b6af844cc7b62935310bbc7bcd",
       "version_major": 2,
       "version_minor": 0
      },
      "image/png": "[encoded data removed]",
      "text/html": [
       "\n",
       "            <div style=\"display: inline-block;\">\n",
       "                <div class=\"jupyter-widgets widget-label\" style=\"text-align: center;\">\n",
       "                    Figure\n",
       "                </div>\n",
       "                <img src='data:image/png;base64,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' width=640.0/>\n",
       "            </div>\n",
       "        "
      ],
      "text/plain": [
       "Canvas(toolbar=Toolbar(toolitems=[('Home', 'Reset original view', 'home', 'home'), ('Back', 'Back to previous …"
      ]
     },
     "metadata": {},
     "output_type": "display_data"
    }
   ],
   "source": [
    "from matplotlib import pyplot as plt\n",
    "\n",
    "#%matplotlib widget\n",
    "%matplotlib ipympl\n",
    "\n",
    "x = X_flattened[:, 0]\n",
    "y = X_flattened[:, 1]\n",
    "z = X_flattened[:, 2]\n",
    "\n",
    "fig = plt.figure()\n",
    "ax = fig.add_subplot(111, projection='3d')\n",
    "\n",
    "ax.scatter(x, y, z, color=\"red\")\n",
    "\n",
    "ax.set_title(\"3D coefficients\")\n",
    "ax.set_xlabel(\"x\")\n",
    "ax.set_ylabel(\"y\")\n",
    "ax.set_zlabel(\"z\")\n",
    "\n",
    "plt.show()"
   ]
  },
  {
   "cell_type": "code",
   "execution_count": null,
   "id": "d19f9566-615f-4eed-9e1b-cd26b6719a40",
   "metadata": {},
   "outputs": [],
   "source": []
  },
  {
   "cell_type": "code",
   "execution_count": null,
   "id": "1b7e5d0f-059f-4d59-8a56-cdb3e3d98090",
   "metadata": {},
   "outputs": [],
   "source": []
  },
  {
   "cell_type": "code",
   "execution_count": null,
   "id": "4e2689bc-1911-4060-b3fa-72a52aa405fa",
   "metadata": {},
   "outputs": [],
   "source": []
  }
 ],
 "metadata": {
  "kernelspec": {
   "display_name": "Python 3 (ipykernel)",
   "language": "python",
   "name": "python3"
  },
  "language_info": {
   "codemirror_mode": {
    "name": "ipython",
    "version": 3
   },
   "file_extension": ".py",
   "mimetype": "text/x-python",
   "name": "python",
   "nbconvert_exporter": "python",
   "pygments_lexer": "ipython3",
   "version": "3.9.21"
  }
 },
 "nbformat": 4,
 "nbformat_minor": 5
}
